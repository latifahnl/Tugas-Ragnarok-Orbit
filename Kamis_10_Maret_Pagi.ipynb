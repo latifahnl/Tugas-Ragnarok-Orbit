{
  "cells": [
    {
      "cell_type": "markdown",
      "id": "48659759",
      "metadata": {
        "id": "48659759"
      },
      "source": [
        "## Latihan Tambahan\n",
        "\n",
        "Misalkan kamu adalah data scientist di gojek. Kamu ingin mengetahui apakah kemacetan mempengaruhi tingkat kepuasan pelanggan. Jadi kamu ingin memebandingkan nilai \"bintang\" dari customer saat dia order di jam macet dan tidak macet. (#hint = data dari customer yang sama)\n",
        "\n",
        "macet = [2, 3, 5, 4, 5, 4, 4, 3, 4, 3, 4, 5, 4, 5, 4, 3, 4, 3, 3, 5, 4, 3, 4, 3, 4, 3, 4, 4, 5]\n",
        "\n",
        "tidak_macet = [2, 2, 4, 5, 4, 3, 3, 3, 3, 3, 3, 4, 4, 5, 4, 3, 3, 2, 3, 4, 4, 3, 3, 3, 4, 3, 4, 3, 4]\n",
        "\n",
        "1. Buat hipotesisnya\n",
        "2. Lakukan uji asumsi normalitasnya\n",
        "3. Jika datanya normal lakukan uji parametrik, jika tidak berdistribusi normal lakukan uji nonparametrik\n",
        "4. Apa kesimpulan uji hipotesisnya?"
      ]
    },
    {
      "cell_type": "code",
      "execution_count": 1,
      "id": "6b9d00fa",
      "metadata": {
        "id": "6b9d00fa"
      },
      "outputs": [],
      "source": [
        "import matplotlib.pyplot as plt\n",
        "import pandas as pd\n",
        "import seaborn as sns\n",
        "import numpy as np\n",
        "from scipy import stats"
      ]
    },
    {
      "cell_type": "code",
      "execution_count": 2,
      "id": "b63180cd",
      "metadata": {
        "id": "b63180cd"
      },
      "outputs": [],
      "source": [
        "#DATA\n",
        "\n",
        "macet = np.array([2, 3, 5, 4, 5, 4, 4, 3, 4, 3, 4, 5, 4, 5, 4, 3, 4, 3, 3, 5, 4, 3, 4, 3, 4, 3, 4, 4, 5])\n",
        "tidak_macet = np.array([2, 2, 4, 5, 4, 3, 3, 3, 3, 3, 3, 4, 4, 5, 4, 3, 3, 2, 3, 4, 4, 3, 3, 3, 4, 3, 4, 3, 4])"
      ]
    },
    {
      "cell_type": "code",
      "execution_count": 3,
      "id": "69383405",
      "metadata": {
        "colab": {
          "base_uri": "https://localhost:8080/"
        },
        "id": "69383405",
        "outputId": "3430a2c9-2e8d-4554-c666-855e82cf2fa4"
      },
      "outputs": [
        {
          "output_type": "execute_result",
          "data": {
            "text/plain": [
              "29"
            ]
          },
          "metadata": {},
          "execution_count": 3
        }
      ],
      "source": [
        "len(macet)"
      ]
    },
    {
      "cell_type": "code",
      "execution_count": 4,
      "id": "cd4d0be0",
      "metadata": {
        "colab": {
          "base_uri": "https://localhost:8080/"
        },
        "id": "cd4d0be0",
        "outputId": "772c03f5-b7a2-4967-b7e9-4c9c5046054e"
      },
      "outputs": [
        {
          "output_type": "execute_result",
          "data": {
            "text/plain": [
              "29"
            ]
          },
          "metadata": {},
          "execution_count": 4
        }
      ],
      "source": [
        "len(tidak_macet)"
      ]
    },
    {
      "cell_type": "markdown",
      "id": "f3a95159",
      "metadata": {
        "id": "f3a95159"
      },
      "source": [
        "## Uji Normalitas\n"
      ]
    },
    {
      "cell_type": "code",
      "execution_count": 5,
      "id": "f6dec356",
      "metadata": {
        "colab": {
          "base_uri": "https://localhost:8080/",
          "height": 372
        },
        "id": "f6dec356",
        "outputId": "22f4f509-510f-4d33-eaa4-c923c79d5037"
      },
      "outputs": [
        {
          "output_type": "stream",
          "name": "stderr",
          "text": [
            "/usr/local/lib/python3.7/dist-packages/seaborn/distributions.py:2619: FutureWarning: `distplot` is a deprecated function and will be removed in a future version. Please adapt your code to use either `displot` (a figure-level function with similar flexibility) or `histplot` (an axes-level function for histograms).\n",
            "  warnings.warn(msg, FutureWarning)\n",
            "/usr/local/lib/python3.7/dist-packages/seaborn/distributions.py:2619: FutureWarning: `distplot` is a deprecated function and will be removed in a future version. Please adapt your code to use either `displot` (a figure-level function with similar flexibility) or `histplot` (an axes-level function for histograms).\n",
            "  warnings.warn(msg, FutureWarning)\n"
          ]
        },
        {
          "output_type": "execute_result",
          "data": {
            "text/plain": [
              "<matplotlib.axes._subplots.AxesSubplot at 0x7fc6cc322f10>"
            ]
          },
          "metadata": {},
          "execution_count": 5
        },
        {
          "output_type": "display_data",
          "data": {
            "text/plain": [
              "<Figure size 432x288 with 1 Axes>"
            ],
            "image/png": "[encoded data removed]"
          },
          "metadata": {
            "needs_background": "light"
          }
        }
      ],
      "source": [
        "#HISTOGRAM\n",
        "\n",
        "sns.distplot(macet)\n",
        "sns.distplot(tidak_macet)"
      ]
    },
    {
      "cell_type": "markdown",
      "id": "bc1b0f34",
      "metadata": {
        "id": "bc1b0f34"
      },
      "source": [
        "Berdasarkan histogram diatas, data terdistibusi normal karena cenderung berbentuk lonceng dengan rata-rata di tengah. Asumsikan Selang kepercayaan = 95% dan alpha 5%\n",
        "\n"
      ]
    },
    {
      "cell_type": "code",
      "execution_count": 6,
      "id": "28659886",
      "metadata": {
        "colab": {
          "base_uri": "https://localhost:8080/"
        },
        "id": "28659886",
        "outputId": "9316c1d0-1fc8-4841-9cd4-bafb3f7ebb7d"
      },
      "outputs": [
        {
          "output_type": "stream",
          "name": "stdout",
          "text": [
            "Uji Kolmogorov-smornov data macet =\n",
            " KstestResult(statistic=0.2414618941043637, pvalue=0.05668593129743599)\n",
            "Uji Kolmogorov-smornov data tidak macet =\n",
            " KstestResult(statistic=0.2769460572882385, pvalue=0.01855050750663906)\n"
          ]
        }
      ],
      "source": [
        "#UJI Kolmogorov-smirnov\n",
        "\n",
        "z_score_macet = stats.zscore(macet)\n",
        "z_score_tidak_macet = stats.zscore(tidak_macet)\n",
        "print(\"Uji Kolmogorov-smornov data macet =\\n\", stats.kstest(z_score_macet, \"norm\"))\n",
        "print(\"Uji Kolmogorov-smornov data tidak macet =\\n\", stats.kstest(z_score_tidak_macet, \"norm\"))"
      ]
    },
    {
      "cell_type": "markdown",
      "id": "49f74bd5",
      "metadata": {
        "id": "49f74bd5"
      },
      "source": [
        "- Hasil dari p-value macet = 0.0566(<=0.05) Data tidak terdistribusi normal\n",
        "- Hasil dari p-value tidak macet = 0.0185(<=0.05) Data tidak terdistribusi normal\n",
        "\n",
        "- Jika p-value <= alpha maka Ho ditolak\n",
        "\n",
        "- Jika p-value > alpha maka Ho diterima\n",
        "\n",
        "Karena kedua nilai p-value <= 0.05, maka Ho ditolak dan data tidak terdistibusi normal"
      ]
    },
    {
      "cell_type": "markdown",
      "id": "0ce447d8",
      "metadata": {
        "id": "0ce447d8"
      },
      "source": [
        "## Uji Wilcoxon (Non-Parametik)\n"
      ]
    },
    {
      "cell_type": "markdown",
      "id": "8f950e5d",
      "metadata": {
        "id": "8f950e5d"
      },
      "source": [
        "Ho = Tidak ada perbedaan yang signifikan(keduanya sama)\n",
        "\n",
        "Ha = Ada perbedaa yang signifikan(keadaan macet dan tidak nya lalu lintah mempengaruhi rating bintang yang diberikan pengguna ke mitra gojek)\n",
        "\n",
        "Dikarenakan data tidak terdistribusi normal, maka Uji Wilcoxon dilakukan:"
      ]
    },
    {
      "cell_type": "code",
      "execution_count": 7,
      "id": "c315c37a",
      "metadata": {
        "colab": {
          "base_uri": "https://localhost:8080/"
        },
        "id": "c315c37a",
        "outputId": "caf9979f-9541-44ca-e6d6-cd7fb58503a9"
      },
      "outputs": [
        {
          "output_type": "execute_result",
          "data": {
            "text/plain": [
              "WilcoxonResult(statistic=8.0, pvalue=0.0007891129890156299)"
            ]
          },
          "metadata": {},
          "execution_count": 7
        }
      ],
      "source": [
        "a = macet - tidak_macet\n",
        "stats.wilcoxon(a)"
      ]
    },
    {
      "cell_type": "markdown",
      "id": "c704c9dc",
      "metadata": {
        "id": "c704c9dc"
      },
      "source": [
        "Karena p-value = 0.0007 (<=0.5), maka Ho ditolak.\n",
        "\n"
      ]
    },
    {
      "cell_type": "markdown",
      "id": "3de61cb5",
      "metadata": {
        "id": "3de61cb5"
      },
      "source": [
        "## Kesimpulan\n"
      ]
    },
    {
      "cell_type": "markdown",
      "id": "3c006f04",
      "metadata": {
        "id": "3c006f04"
      },
      "source": [
        "Karena Ho ditolak, maka kemacetan berpangaruh signifikan terhadap rating bintang yang diberikan oleh user kepada mitra.\n",
        "\n"
      ]
    }
  ],
  "metadata": {
    "kernelspec": {
      "display_name": "Python 3 (ipykernel)",
      "language": "python",
      "name": "python3"
    },
    "language_info": {
      "codemirror_mode": {
        "name": "ipython",
        "version": 3
      },
      "file_extension": ".py",
      "mimetype": "text/x-python",
      "name": "python",
      "nbconvert_exporter": "python",
      "pygments_lexer": "ipython3",
      "version": "3.9.7"
    },
    "colab": {
      "name": "Kamis_10_Maret_Pagi.ipynb",
      "provenance": [],
      "collapsed_sections": []
    }
  },
  "nbformat": 4,
  "nbformat_minor": 5
}