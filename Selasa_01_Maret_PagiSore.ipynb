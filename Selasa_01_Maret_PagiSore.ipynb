{
  "nbformat": 4,
  "nbformat_minor": 0,
  "metadata": {
    "colab": {
      "name": "Latifah Nur Laila_Tugas PagiSore.ipynb",
      "provenance": []
    },
    "kernelspec": {
      "name": "python3",
      "display_name": "Python 3"
    },
    "language_info": {
      "name": "python"
    }
  },
  "cells": [
    {
      "cell_type": "markdown",
      "source": [
        "# Tugas Pagi\n",
        "\n",
        "---\n",
        "\n"
      ],
      "metadata": {
        "id": "eH0uj5TqcZVP"
      }
    },
    {
      "cell_type": "markdown",
      "source": [
        "Python's Interactive Console : The Interpreter\n",
        "\n",
        "• The Python interpreter is a console that allows interactive development\n",
        "\n",
        "• We are currently using the Jupyter notebook, which uses an advanced Python\n",
        "interpreter called IPython\n",
        "\n",
        "• This gives us much more power and flexibility"
      ],
      "metadata": {
        "id": "7LcZ2arXB3Zl"
      }
    },
    {
      "cell_type": "code",
      "execution_count": 1,
      "metadata": {
        "colab": {
          "base_uri": "https://localhost:8080/"
        },
        "id": "XaTt-IHMBUNi",
        "outputId": "b1d6e409-613c-49ee-8281-234aecfe4f5b"
      },
      "outputs": [
        {
          "output_type": "stream",
          "name": "stdout",
          "text": [
            "Hello World!\n"
          ]
        }
      ],
      "source": [
        "print(\"Hello World!\") #As usual with any language we start with with the print function"
      ]
    },
    {
      "cell_type": "markdown",
      "source": [
        ""
      ],
      "metadata": {
        "id": "5duuYdhcCiJT"
      }
    },
    {
      "cell_type": "markdown",
      "source": [
        "# Objective\n",
        "\n"
      ],
      "metadata": {
        "id": "ODm-30g4gaMN"
      }
    },
    {
      "cell_type": "markdown",
      "source": [
        "### • Python Basics\n",
        "####– Strings - Creating a String, variable assignments - String Indexing & Slicing - String Concatenation & Repetition - Basic Built-in String Methods\n",
        "####– Numbers - Types of Numbers - Basic Arithmetic\n",
        "### • Data Types & Data Structures\n",
        "####– Lists\n",
        "####– Dictionaries\n",
        "####– Sets & Booleans\n",
        "###• Python Programming Constructs\n",
        "####– Loops & Iterative Statements - if,elif,else statements - for loops, while loops"
      ],
      "metadata": {
        "id": "MhbtNwejDDs7"
      }
    },
    {
      "cell_type": "markdown",
      "source": [
        "# Python Basics\n",
        "Let's understand\n",
        "\n",
        "• Basic data types\n",
        "\n",
        "• Variables and Scoping\n",
        "\n",
        "• Modules, Packages and the import statement\n",
        "\n",
        "• Operators"
      ],
      "metadata": {
        "id": "eG0jykr6DwvY"
      }
    },
    {
      "cell_type": "markdown",
      "source": [
        "# Strings\n",
        "\n",
        "Strings are used in Python to record text information, such as name. Strings in Python are\n",
        "actually a sequence, which basically means Python keeps track of every element in the\n",
        "string as a sequence. For example, Python understands the string \"hello' to be a sequence of\n",
        "letters in a specific order. This means we will be able to use indexing to grab particular\n",
        "letters (like the first letter, or the last letter).\n",
        "This idea of a sequence is an important one in Python and we will touch upon it later on in\n",
        "the future.\n",
        "In this lecture we'll learn about the following:\n",
        "\n",
        "1.) Creating Strings\n",
        "2.) Printing Strings\n",
        "3.) String Indexing and Slicing\n",
        "4.) String Properties\n",
        "5.) String Methods\n",
        "6.) Print Formatting\n"
      ],
      "metadata": {
        "id": "MymogYLPEcqM"
      }
    },
    {
      "cell_type": "code",
      "source": [
        "# Single word\n",
        "print('hello')"
      ],
      "metadata": {
        "colab": {
          "base_uri": "https://localhost:8080/"
        },
        "id": "q9D-Sx-VEpZJ",
        "outputId": "daf17227-8d61-4c42-d8d5-2b04dfb74c3a"
      },
      "execution_count": 2,
      "outputs": [
        {
          "output_type": "stream",
          "name": "stdout",
          "text": [
            "hello\n"
          ]
        }
      ]
    },
    {
      "cell_type": "code",
      "source": [
        "print() # Used to have a line space between two sentences. Try deleting this line & seeing the difference.\n"
      ],
      "metadata": {
        "colab": {
          "base_uri": "https://localhost:8080/"
        },
        "id": "1sLhxX4AErOF",
        "outputId": "cea0c897-0ce2-4318-8164-4e0ea50afc37"
      },
      "execution_count": 5,
      "outputs": [
        {
          "output_type": "stream",
          "name": "stdout",
          "text": [
            "\n"
          ]
        }
      ]
    },
    {
      "cell_type": "code",
      "source": [
        "# Entire phrase\n",
        "print('This is also a string')"
      ],
      "metadata": {
        "colab": {
          "base_uri": "https://localhost:8080/"
        },
        "id": "QBTrka45EujD",
        "outputId": "53e1c6b9-fbf4-472f-e25f-e6b679a9c746"
      },
      "execution_count": 6,
      "outputs": [
        {
          "output_type": "stream",
          "name": "stdout",
          "text": [
            "This is also a string\n"
          ]
        }
      ]
    },
    {
      "cell_type": "markdown",
      "source": [
        "# Variables : Store your Value in me!\n",
        "In the code below we begin to explore how we can use a variable to which a string can be\n",
        "assigned.\n",
        "This can be extremely useful in many cases, where you can call the variable instead of\n",
        "typing the string everytime.\n",
        "This not only makes our code clean but it also makes it less redundant. Example syntax to\n",
        "assign a value or expression to a variable,\n",
        "\n",
        "variable_name = value or expression\n",
        "\n",
        "Now let's get coding!!. With the below block of code showing how to assign a string to\n",
        "variable.\n"
      ],
      "metadata": {
        "id": "HCLUD0KxFHQc"
      }
    },
    {
      "cell_type": "code",
      "source": [
        "s = 'New York'\n"
      ],
      "metadata": {
        "id": "hXeuwmLZFTEP"
      },
      "execution_count": 7,
      "outputs": []
    },
    {
      "cell_type": "code",
      "source": [
        "print(s)\n",
        "print(type(s))\n",
        "print(len(s)) # what's the string length"
      ],
      "metadata": {
        "colab": {
          "base_uri": "https://localhost:8080/"
        },
        "id": "uafORYDMFXLg",
        "outputId": "16b013f9-1f16-476a-940b-69ae930924c0"
      },
      "execution_count": 11,
      "outputs": [
        {
          "output_type": "stream",
          "name": "stdout",
          "text": [
            "New York\n",
            "<class 'str'>\n",
            "8\n"
          ]
        }
      ]
    },
    {
      "cell_type": "markdown",
      "source": [
        "# String Indexing\n",
        "We know strings are a sequence, which means Python can use indexes to call parts of the\n",
        "sequence. Let's learn how this works.\n",
        "\n",
        "In Python, we use brackets [] after an object to call its index. We should also note that\n",
        "indexing starts at 0 for Python. Let's create a new object called s and the walk through a\n",
        "few examples of indexing."
      ],
      "metadata": {
        "id": "lfwpIuRmFpJr"
      }
    },
    {
      "cell_type": "code",
      "source": [
        "# Assign s as a string\n",
        "s = 'Hello World'\n",
        "# Print the object\n",
        "print(s)\n",
        "print()\n",
        "# Show first element (in this case a letter)\n",
        "print(s[0])\n",
        "print()\n",
        "# Show the second element (also a letter)\n",
        "print(s[1])\n"
      ],
      "metadata": {
        "colab": {
          "base_uri": "https://localhost:8080/"
        },
        "id": "g5GZgDjJF1A9",
        "outputId": "f3f2e042-5b73-4b64-d9ed-e8997b5181d9"
      },
      "execution_count": 12,
      "outputs": [
        {
          "output_type": "stream",
          "name": "stdout",
          "text": [
            "Hello World\n",
            "\n",
            "H\n",
            "\n",
            "e\n"
          ]
        }
      ]
    },
    {
      "cell_type": "markdown",
      "source": [
        "# String Concatenation and Repetition\n",
        "**String Concatenation**  is a process to combine two strings. It is done using the '+' operator.\n",
        "\n",
        "**String Repetition**  is a process of repeating a same string multiple times\n",
        "\n",
        "\n",
        "The examples of the above concepts is as follows."
      ],
      "metadata": {
        "id": "WYnve-WrGcUY"
      }
    },
    {
      "cell_type": "code",
      "source": [
        "# concatenation (addition)\n",
        "s1 = 'Hello'\n",
        "s2 = \"World\"\n",
        "print(s1 + \" \" + s2)"
      ],
      "metadata": {
        "colab": {
          "base_uri": "https://localhost:8080/"
        },
        "id": "qX1O5bdaGxNI",
        "outputId": "ecbb0c2d-b638-42a9-c9ab-194517eefd8d"
      },
      "execution_count": 13,
      "outputs": [
        {
          "output_type": "stream",
          "name": "stdout",
          "text": [
            "Hello World\n"
          ]
        }
      ]
    },
    {
      "cell_type": "code",
      "source": [
        "# repetition (multiplication)\n",
        "print(\"Hello_\" * 3)\n",
        "print(\"-\" * 10)"
      ],
      "metadata": {
        "colab": {
          "base_uri": "https://localhost:8080/"
        },
        "id": "_nVoDX8JG1ja",
        "outputId": "c8a3a55e-57c8-40e2-e765-53da49565d8d"
      },
      "execution_count": 14,
      "outputs": [
        {
          "output_type": "stream",
          "name": "stdout",
          "text": [
            "Hello_Hello_Hello_\n",
            "----------\n"
          ]
        }
      ]
    },
    {
      "cell_type": "markdown",
      "source": [
        "# String Slicing & Indexing\n",
        "**String Indexing** is used to to select the letter at a particular index/position.\n",
        "\n",
        "**String Slicing** is a process to select a subset of an entire string\n",
        "\n",
        "\n",
        "\n",
        "The examples of the above stated are as follows\n"
      ],
      "metadata": {
        "id": "SZYRNPuQG7Ik"
      }
    },
    {
      "cell_type": "code",
      "source": [
        "s = \"Namaste World\"\n",
        "# print sub strings\n",
        "print(s[1]) #This is indexing.\n",
        "print(s[6:11]) #This is known as slicing.\n",
        "print(s[-5:-1])\n",
        "# test substring membership\n",
        "print(\"Wor\" in s)\n"
      ],
      "metadata": {
        "colab": {
          "base_uri": "https://localhost:8080/"
        },
        "id": "ukwpFlRVHHd_",
        "outputId": "15d6d1ec-3859-4c2b-8e75-d671016c6001"
      },
      "execution_count": 15,
      "outputs": [
        {
          "output_type": "stream",
          "name": "stdout",
          "text": [
            "a\n",
            "e Wor\n",
            "Worl\n",
            "True\n"
          ]
        }
      ]
    },
    {
      "cell_type": "markdown",
      "source": [
        "Note the above slicing. Here we're telling Python to grab everything from 6 up to 10 and\n",
        "from fifth last to second last. You'll notice this a lot in Python, where statements and are\n",
        "usually in the context of \"up to, but not including\".\n"
      ],
      "metadata": {
        "id": "THP8WonBHL_u"
      }
    },
    {
      "cell_type": "markdown",
      "source": [
        "# Basic Built-in String methods\n",
        "\n",
        "Objects in Python usually have built-in methods. These methods are functions inside the\n",
        "object (we will learn about these in much more depth later) that can perform actions or\n",
        "commands on the object itself.\n",
        "\n",
        "We call methods with a period and then the method name. Methods are in the form:\n",
        "\n",
        "object.method(parameters)\n",
        "\n",
        "Where parameters are extra arguments we can pass into the method. Don't worry if the details don't make 100% sense right now.\n",
        "\n",
        "Later on we will be creating our own objects and functions!\n",
        "\n",
        "\n",
        "\n",
        "\n",
        "Here are some examples of built-in methods in strings:\n"
      ],
      "metadata": {
        "id": "OvqLHaZ7HPZy"
      }
    },
    {
      "cell_type": "code",
      "source": [
        "s = \"Hello World\"\n",
        "print(s.upper()) ## Convert all the element of the string to Upper case..!!\n",
        "print(s.lower()) ## Convert all the element of the string to Lower case..!!\n"
      ],
      "metadata": {
        "colab": {
          "base_uri": "https://localhost:8080/"
        },
        "id": "AQcHS-J3HiTO",
        "outputId": "a9e38bce-0277-41f1-ba2b-bcc14a590b58"
      },
      "execution_count": 16,
      "outputs": [
        {
          "output_type": "stream",
          "name": "stdout",
          "text": [
            "HELLO WORLD\n",
            "hello world\n"
          ]
        }
      ]
    },
    {
      "cell_type": "markdown",
      "source": [
        "# Print Formatting\n",
        "\n",
        "We can use the .format() method to add formatted objects to printed string statements.\n",
        "\n",
        "\n",
        "The easiest way to show this is through an example:"
      ],
      "metadata": {
        "id": "8_xWLlKfHpig"
      }
    },
    {
      "cell_type": "code",
      "source": [
        "name = \"Einstein\"\n",
        "age = 22\n",
        "married = True"
      ],
      "metadata": {
        "id": "kQiR6nS2HzFz"
      },
      "execution_count": 17,
      "outputs": []
    },
    {
      "cell_type": "code",
      "source": [
        "#Cara 1\n",
        "print(\"My name  is\", name, \"My age is\", age, \"I an married\", married)"
      ],
      "metadata": {
        "colab": {
          "base_uri": "https://localhost:8080/"
        },
        "id": "HlM-NQvbIGLg",
        "outputId": "cc2043bd-c58a-409d-fdad-ac670d487199"
      },
      "execution_count": 21,
      "outputs": [
        {
          "output_type": "stream",
          "name": "stdout",
          "text": [
            "My name  is Einstein My age is 22 I an married True\n"
          ]
        }
      ]
    },
    {
      "cell_type": "code",
      "source": [
        "# Cara 2\n",
        "print(\"My name is %s, my age is %s, and it is %s that I am married\" %\n",
        "(name, age, married))"
      ],
      "metadata": {
        "colab": {
          "base_uri": "https://localhost:8080/"
        },
        "id": "4942yKLEH5hQ",
        "outputId": "b86bdf4a-cf74-4096-984e-dfae22dac1b6"
      },
      "execution_count": 22,
      "outputs": [
        {
          "output_type": "stream",
          "name": "stdout",
          "text": [
            "My name is Einstein, my age is 22, and it is True that I am married\n"
          ]
        }
      ]
    },
    {
      "cell_type": "code",
      "source": [
        "#Cara 3\n",
        "print(\"My name is {}, my age is {}, and it is {} that I am married\".format(name, age, married))"
      ],
      "metadata": {
        "colab": {
          "base_uri": "https://localhost:8080/"
        },
        "id": "3Bc37xJYH-ni",
        "outputId": "41164434-eaff-4871-d72c-ad635ede3ba4"
      },
      "execution_count": 20,
      "outputs": [
        {
          "output_type": "stream",
          "name": "stdout",
          "text": [
            "My name is Einstein, my age is 22, and it is True that I am married\n"
          ]
        }
      ]
    },
    {
      "cell_type": "markdown",
      "source": [
        "# Numbers\n",
        "Having worked with string we will turn our attention to numbers\n",
        "\n",
        "We'll learn about the following topics:\n",
        "\n",
        "1.) Types of Numbers in Python\n",
        "\n",
        "2.) Basic Arithmetic\n",
        "\n",
        "3.) Object Assignment in Python\n"
      ],
      "metadata": {
        "id": "Xnx4scHIIPSA"
      }
    },
    {
      "cell_type": "markdown",
      "source": [
        "# Types of numbers\n",
        "Python has various \"types\" of numbers (numeric literals). We'll mainly focus on integers and floating point numbers.\n",
        "\n",
        "Integers are just whole numbers, positive or negative. For example: 2 and -2 are examples of integers.\n",
        "\n",
        "Floating point numbers in Python are notable because they have a decimal point in them, or use an exponential (e) to define the number. For example 2.0 and -2.1 are examples of floating point numbers. 4E2 (4 times 10 to the power of 2) is also an example of a floating point number in Python.\n",
        "\n",
        "Throughout this course we will be mainly working with integers or simple float number types.\n",
        "\n",
        "Here is a table of the two main types we will spend most of our time working with some examples:\n",
        "\n",
        "\n",
        "\n",
        "Now let's start with some basic arithmetic."
      ],
      "metadata": {
        "id": "8jIoxid2Icdf"
      }
    },
    {
      "cell_type": "code",
      "source": [
        "### Basic Arithmetic ###\n",
        "# Addition\n",
        "print(2+1)\n",
        "# Subtraction\n",
        "print(2-1)\n",
        "# Multiplication\n",
        "print(2*2)\n",
        "# Division\n",
        "print(3/2)\n"
      ],
      "metadata": {
        "colab": {
          "base_uri": "https://localhost:8080/"
        },
        "id": "ZQufDwteI1Z0",
        "outputId": "5219177e-bd98-4720-d8b8-031449771039"
      },
      "execution_count": 23,
      "outputs": [
        {
          "output_type": "stream",
          "name": "stdout",
          "text": [
            "3\n",
            "1\n",
            "4\n",
            "1.5\n"
          ]
        }
      ]
    },
    {
      "cell_type": "code",
      "source": [
        "### Arithmetic continued ###\n",
        "# Powers\n",
        "2**3"
      ],
      "metadata": {
        "colab": {
          "base_uri": "https://localhost:8080/"
        },
        "id": "IT_FIxtBI9jZ",
        "outputId": "c0ba57fa-0c92-4114-cef9-49f4a4625b3e"
      },
      "execution_count": 24,
      "outputs": [
        {
          "output_type": "execute_result",
          "data": {
            "text/plain": [
              "8"
            ]
          },
          "metadata": {},
          "execution_count": 24
        }
      ]
    },
    {
      "cell_type": "code",
      "source": [
        "# Order of Operations followed in Python\n",
        "2 + 10 * 10 + 3"
      ],
      "metadata": {
        "colab": {
          "base_uri": "https://localhost:8080/"
        },
        "id": "x382NC_4JNLd",
        "outputId": "adfabaff-2a9b-4a20-d34d-0cace12b52f7"
      },
      "execution_count": 25,
      "outputs": [
        {
          "output_type": "execute_result",
          "data": {
            "text/plain": [
              "105"
            ]
          },
          "metadata": {},
          "execution_count": 25
        }
      ]
    },
    {
      "cell_type": "code",
      "source": [
        "# Can use parenthesis to specify orders\n",
        "(2+10) * (10+3)"
      ],
      "metadata": {
        "colab": {
          "base_uri": "https://localhost:8080/"
        },
        "id": "rFPAcCd_JP5x",
        "outputId": "a12af6f6-7442-4fe2-cffd-90eeb18d668e"
      },
      "execution_count": 26,
      "outputs": [
        {
          "output_type": "execute_result",
          "data": {
            "text/plain": [
              "156"
            ]
          },
          "metadata": {},
          "execution_count": 26
        }
      ]
    },
    {
      "cell_type": "markdown",
      "source": [
        "# Variable Assignments\n",
        "Now that we've seen how to use numbers in Python as a calculator let's see how we can assign names and create variables.\n",
        "\n",
        "We use a single equals sign to assign labels to variables. Let's see a few examples of how we can do this.\n"
      ],
      "metadata": {
        "id": "3PHx5_AXJYqN"
      }
    },
    {
      "cell_type": "code",
      "source": [
        "# Let's create an object called \"a\" and assign it the number 5\n",
        "a = 5"
      ],
      "metadata": {
        "id": "MukNOFViJmZk"
      },
      "execution_count": 27,
      "outputs": []
    },
    {
      "cell_type": "markdown",
      "source": [
        "Now if I call a in my Python script, Python will treat it as the number 5."
      ],
      "metadata": {
        "id": "EVCc6ZMKJqtD"
      }
    },
    {
      "cell_type": "code",
      "source": [
        "# Adding the objects\n",
        "a+a"
      ],
      "metadata": {
        "colab": {
          "base_uri": "https://localhost:8080/"
        },
        "id": "pKqKuuCSJtgg",
        "outputId": "0dd0cfec-4169-4ddd-c0c0-4fec5e7914cc"
      },
      "execution_count": 28,
      "outputs": [
        {
          "output_type": "execute_result",
          "data": {
            "text/plain": [
              "10"
            ]
          },
          "metadata": {},
          "execution_count": 28
        }
      ]
    },
    {
      "cell_type": "markdown",
      "source": [
        "What happens on reassignment? Will Python let us write it over?\n"
      ],
      "metadata": {
        "id": "TQ5MCexMJ2Nk"
      }
    },
    {
      "cell_type": "code",
      "source": [
        "# Reassignment\n",
        "a = 10\n",
        "# Check\n",
        "a\n"
      ],
      "metadata": {
        "colab": {
          "base_uri": "https://localhost:8080/"
        },
        "id": "zouFsUlLJ4Hh",
        "outputId": "61d18fed-b3c3-459b-cfa4-d1df51bef4b2"
      },
      "execution_count": 29,
      "outputs": [
        {
          "output_type": "execute_result",
          "data": {
            "text/plain": [
              "10"
            ]
          },
          "metadata": {},
          "execution_count": 29
        }
      ]
    },
    {
      "cell_type": "markdown",
      "source": [
        "# Tugas Sore\n",
        "\n",
        "---\n",
        "\n"
      ],
      "metadata": {
        "id": "XBkYUWc0ce_C"
      }
    },
    {
      "cell_type": "markdown",
      "source": [
        "## Data Types & Data Structures\n",
        "\n",
        "• Everything in Python is an \"object\", including integers/floats\n",
        "\n",
        "• Most common and important types (classes)\n",
        "###### – \"Single value\": None, int, float, bool, str, complex\n",
        "###### – \"Multiple values\": list, tuple, set, dict\n",
        "\n",
        "• Single/Multiple isn't a real distinction, this is for explanation\n",
        "\n",
        "• There are many others, but these are most frequently used"
      ],
      "metadata": {
        "id": "iz0Sy4VKcja4"
      }
    },
    {
      "cell_type": "code",
      "source": [
        "#Identifying Data Types\n",
        "a = 42\n",
        "b = 32.30\n",
        "print(type(a))#gets type of a\n",
        "print(type(b))#gets type of b"
      ],
      "metadata": {
        "colab": {
          "base_uri": "https://localhost:8080/"
        },
        "id": "-E6W_qPYc6kM",
        "outputId": "bc15e7f6-00d0-49a4-9bc0-9242c41a527a"
      },
      "execution_count": 30,
      "outputs": [
        {
          "output_type": "stream",
          "name": "stdout",
          "text": [
            "<class 'int'>\n",
            "<class 'float'>\n"
          ]
        }
      ]
    },
    {
      "cell_type": "markdown",
      "source": [
        "# Single Value Type\n",
        "• int: Integers\n",
        "\n",
        "• float: Floating point numbers\n",
        "\n",
        "• bool: Boolean values (True, False)\n",
        "\n",
        "• complex: Complex numbers\n",
        "\n",
        "• str: String"
      ],
      "metadata": {
        "id": "__eldipGdAsf"
      }
    },
    {
      "cell_type": "markdown",
      "source": [
        "# List\n",
        "Lists can be thought of the most general version of a sequence in Python.\n",
        "Unlike strings, they are mutable, meaning the elements inside a list can be changed!\n",
        "\n",
        "In this section we will learn about:\n",
        "\n",
        "1.) Creating lists\n",
        "\n",
        "2.) Indexing and Slicing Lists\n",
        "\n",
        "3.) Basic List Methods\n",
        "\n",
        "4.) Nesting Lists\n",
        "\n",
        "5.) Introduction to List Comprehensions\n",
        "\n",
        "Lists are constructed with brackets [] and commas separating every element in the list.\n",
        "\n",
        "Let's go ahead and see how we can construct lists!"
      ],
      "metadata": {
        "id": "DFl2r-SddM4o"
      }
    },
    {
      "cell_type": "code",
      "source": [
        "# Assign a list to an variable named my_list\n",
        "my_list = [1,2,3]"
      ],
      "metadata": {
        "id": "gHN0khTodd2y"
      },
      "execution_count": 31,
      "outputs": []
    },
    {
      "cell_type": "markdown",
      "source": [
        "We just created a list of integers, but lists can actually hold different object types. For example:"
      ],
      "metadata": {
        "id": "R1rl3HeMdgoz"
      }
    },
    {
      "cell_type": "code",
      "source": [
        "my_list = ['A string',23,100.232,'o']"
      ],
      "metadata": {
        "id": "fkbQePuadj8s"
      },
      "execution_count": 32,
      "outputs": []
    },
    {
      "cell_type": "markdown",
      "source": [
        "Just like strings, the len() function will tell you how many items are in the sequence of the list"
      ],
      "metadata": {
        "id": "MuIwf_msdmsi"
      }
    },
    {
      "cell_type": "code",
      "source": [
        "len(my_list)"
      ],
      "metadata": {
        "colab": {
          "base_uri": "https://localhost:8080/"
        },
        "id": "04KBY7MBdqTn",
        "outputId": "e50962dc-78b6-4d63-89f1-ede865cd84cf"
      },
      "execution_count": 33,
      "outputs": [
        {
          "output_type": "execute_result",
          "data": {
            "text/plain": [
              "4"
            ]
          },
          "metadata": {},
          "execution_count": 33
        }
      ]
    },
    {
      "cell_type": "markdown",
      "source": [
        "# Adding New Elements to a list\n",
        "We use two special commands to add new elements to a list. Let's make a new list to remind ourselves of how this works:\n"
      ],
      "metadata": {
        "id": "jlsYzwlAdwtn"
      }
    },
    {
      "cell_type": "code",
      "source": [
        "my_list = ['one','two','three',4,5]"
      ],
      "metadata": {
        "id": "3Uj5o8QCd2ty"
      },
      "execution_count": 34,
      "outputs": []
    },
    {
      "cell_type": "code",
      "source": [
        "# append a value to the end of the list\n",
        "l = [1, 2.3, ['a', 'b'], 'New York']\n",
        "l.append(3.1)\n",
        "print(l)\n"
      ],
      "metadata": {
        "colab": {
          "base_uri": "https://localhost:8080/"
        },
        "id": "2lEuAYBBd4dJ",
        "outputId": "1d08bd0f-1009-4ca3-d22e-3fa37d01a992"
      },
      "execution_count": 35,
      "outputs": [
        {
          "output_type": "stream",
          "name": "stdout",
          "text": [
            "[1, 2.3, ['a', 'b'], 'New York', 3.1]\n"
          ]
        }
      ]
    },
    {
      "cell_type": "code",
      "source": [
        "# extend a list with another list.\n",
        "l = [1, 2, 3]\n",
        "l.extend([4, 5, 6])\n",
        "print(l)"
      ],
      "metadata": {
        "colab": {
          "base_uri": "https://localhost:8080/"
        },
        "id": "ej3ztYTId7q7",
        "outputId": "53234573-b92f-4e95-f1f7-aee5685ba01c"
      },
      "execution_count": 36,
      "outputs": [
        {
          "output_type": "stream",
          "name": "stdout",
          "text": [
            "[1, 2, 3, 4, 5, 6]\n"
          ]
        }
      ]
    },
    {
      "cell_type": "markdown",
      "source": [
        "# Slicing\n",
        "Slicing is used to access individual elements or a rage of elements in a list.\n",
        "\n",
        "Python supports \"slicing\" indexable sequences. The syntax for slicing lists is:\n",
        "\n",
        "\n",
        "```\n",
        "# list_object[start:end:step] or\n",
        "# list_object[start:end]\n",
        "```\n",
        "\n",
        "start and end are indices (start inclusive, end exclusive). All slicing values are optional.\n",
        "\n"
      ],
      "metadata": {
        "id": "V16jFvr7d_5h"
      }
    },
    {
      "cell_type": "code",
      "source": [
        "lst = list(range(10)) # create a list containing 10 numbers starting from 0\n",
        "print(lst)\n",
        "print(\"elements from index 4 to 7:\", lst[4:7])\n",
        "# prints elements from index 0 till last index with a step of 2\n",
        "print(\"alternate elements, starting at index 0:\", lst[0::2])\n",
        "# prints elements from index 1 till last index with a step of 3\n",
        "print(\"every third element, starting at index 1:\", lst[1::3])"
      ],
      "metadata": {
        "colab": {
          "base_uri": "https://localhost:8080/"
        },
        "id": "uxZ0YhSAeTJc",
        "outputId": "66af153b-5b1d-4fa7-9f4e-ddd425e106a2"
      },
      "execution_count": 39,
      "outputs": [
        {
          "output_type": "stream",
          "name": "stdout",
          "text": [
            "[0, 1, 2, 3, 4, 5, 6, 7, 8, 9]\n",
            "elements from index 4 to 7: [4, 5, 6]\n",
            "alternate elements, starting at index 0: [0, 2, 4, 6, 8]\n",
            "every third element, starting at index 1: [1, 4, 7]\n"
          ]
        }
      ]
    },
    {
      "cell_type": "markdown",
      "source": [
        "\n",
        "\n",
        "```\n",
        "# .append: add element to end of list\n",
        "# .insert: insert element at given index\n",
        "# .extend: extend one list with another list\n",
        "```\n",
        "\n"
      ],
      "metadata": {
        "id": "IEYXROjOe0Pe"
      }
    },
    {
      "cell_type": "markdown",
      "source": [
        "# Dictionaries\n",
        "Now we're going to switch gears and learn about mappings called dictionaries in Python. If you're familiar with other languages you can think of these Dictionaries as hash tables.\n",
        "\n",
        "This section will serve as a brief introduction to dictionaries and consist of:\n",
        "\n",
        "1.) Constructing a Dictionary\n",
        "\n",
        "2.) Accessing objects from a dictionary\n",
        "\n",
        "3.) Nesting Dictionaries\n",
        "\n",
        "4.) Basic Dictionary Methods\n",
        "\n",
        "A Python dictionary consists of a key and then an associated value. That value can be almost any Python object.\n",
        "\n",
        "Let's see how we can construct dictionaries to get a better understanding of how they\n",
        "work!"
      ],
      "metadata": {
        "id": "kDbMaXjne9gq"
      }
    },
    {
      "cell_type": "code",
      "source": [
        "# Make a dictionary with {} and : to signify a key and a value\n",
        "my_dict = {'key1':'value1','key2':'value2'}\n",
        "# Call values by their key\n",
        "my_dict['key2']"
      ],
      "metadata": {
        "colab": {
          "base_uri": "https://localhost:8080/",
          "height": 35
        },
        "id": "1mCp2KOUfV5w",
        "outputId": "6d903bcd-5954-41de-bad0-3fe67379dc9a"
      },
      "execution_count": 40,
      "outputs": [
        {
          "output_type": "execute_result",
          "data": {
            "application/vnd.google.colaboratory.intrinsic+json": {
              "type": "string"
            },
            "text/plain": [
              "'value2'"
            ]
          },
          "metadata": {},
          "execution_count": 40
        }
      ]
    },
    {
      "cell_type": "markdown",
      "source": [
        "We can effect the values of a key as well. For instance:"
      ],
      "metadata": {
        "id": "S9APy-dBfYtV"
      }
    },
    {
      "cell_type": "code",
      "source": [
        "my_dict['key1']=123\n",
        "my_dict"
      ],
      "metadata": {
        "colab": {
          "base_uri": "https://localhost:8080/"
        },
        "id": "WnpoppjQfZfi",
        "outputId": "edde2ff3-3995-498a-d4a4-f2c8eeed2d8f"
      },
      "execution_count": 41,
      "outputs": [
        {
          "output_type": "execute_result",
          "data": {
            "text/plain": [
              "{'key1': 123, 'key2': 'value2'}"
            ]
          },
          "metadata": {},
          "execution_count": 41
        }
      ]
    },
    {
      "cell_type": "code",
      "source": [
        "# Subtract 123 from the value\n",
        "my_dict['key1'] = my_dict['key1'] - 123"
      ],
      "metadata": {
        "id": "UFEmy1FsfdU_"
      },
      "execution_count": 42,
      "outputs": []
    },
    {
      "cell_type": "code",
      "source": [
        "#Check\n",
        "my_dict['key1']"
      ],
      "metadata": {
        "colab": {
          "base_uri": "https://localhost:8080/"
        },
        "id": "PiJTKEiMffuS",
        "outputId": "a9562864-52f2-4027-c771-d6b22046b5b6"
      },
      "execution_count": 43,
      "outputs": [
        {
          "output_type": "execute_result",
          "data": {
            "text/plain": [
              "0"
            ]
          },
          "metadata": {},
          "execution_count": 43
        }
      ]
    },
    {
      "cell_type": "markdown",
      "source": [
        "A quick note, Python has a built-in method of doing a self subtraction or addition (or multiplication or division). We could have also used += or -= for the above statement. For example:"
      ],
      "metadata": {
        "id": "2qng9MY8fiEh"
      }
    },
    {
      "cell_type": "code",
      "source": [
        "# Set the object equal to itself minus 123\n",
        "my_dict['key1'] -= 123\n",
        "my_dict['key1']"
      ],
      "metadata": {
        "colab": {
          "base_uri": "https://localhost:8080/"
        },
        "id": "Pqxme05nfkqd",
        "outputId": "6f67b514-cec1-4157-cef1-39470f3947a8"
      },
      "execution_count": 44,
      "outputs": [
        {
          "output_type": "execute_result",
          "data": {
            "text/plain": [
              "-123"
            ]
          },
          "metadata": {},
          "execution_count": 44
        }
      ]
    },
    {
      "cell_type": "markdown",
      "source": [
        "Now its your turn to get hands-on with Dictionary, create a empty dicts. Create a new key calle animal and assign a value 'Dog' to it."
      ],
      "metadata": {
        "id": "3J2XLbMmfnSY"
      }
    },
    {
      "cell_type": "code",
      "source": [
        "# Create a new dictionary\n",
        "d = {}\n",
        "# Create a new key through assignment\n",
        "d['animal'] = 'Dog'"
      ],
      "metadata": {
        "id": "FUnWjGdEfqDp"
      },
      "execution_count": 45,
      "outputs": []
    },
    {
      "cell_type": "markdown",
      "source": [
        "# Set and Booleans\n",
        "There are two other object types in Python that we should quickly cover. Sets and\n",
        "Booleans."
      ],
      "metadata": {
        "id": "VWZWfVZdfuxX"
      }
    },
    {
      "cell_type": "markdown",
      "source": [
        "## Sets\n",
        "Sets are an unordered collection of unique elements. We can construct them by using the set() function. Let's go ahead and make a set to see how it works"
      ],
      "metadata": {
        "id": "DFiwHaWbfzWE"
      }
    },
    {
      "cell_type": "code",
      "source": [
        "x = set()"
      ],
      "metadata": {
        "id": "LtekROYof5II"
      },
      "execution_count": 46,
      "outputs": []
    },
    {
      "cell_type": "code",
      "source": [
        "# We add to sets with the add() method\n",
        "x.add(1)"
      ],
      "metadata": {
        "id": "Oj2PWRHaf7q9"
      },
      "execution_count": 47,
      "outputs": []
    },
    {
      "cell_type": "code",
      "source": [
        "#Show\n",
        "x\n"
      ],
      "metadata": {
        "colab": {
          "base_uri": "https://localhost:8080/"
        },
        "id": "oSt5SMINf9Y5",
        "outputId": "5e2fec9d-7044-4c0e-9db0-81c1d9413889"
      },
      "execution_count": 48,
      "outputs": [
        {
          "output_type": "execute_result",
          "data": {
            "text/plain": [
              "{1}"
            ]
          },
          "metadata": {},
          "execution_count": 48
        }
      ]
    },
    {
      "cell_type": "markdown",
      "source": [
        "Note the curly brackets. This does not indicate a dictionary! Although you can draw analogies as a set being a dictionary with only keys. We know that a set has only unique entries. So what happens when we try to add something that is already in a set?\n"
      ],
      "metadata": {
        "id": "pU9rxul6gA7I"
      }
    },
    {
      "cell_type": "code",
      "source": [
        "# Add a different element\n",
        "x.add(2)\n",
        "#Show\n",
        "x"
      ],
      "metadata": {
        "colab": {
          "base_uri": "https://localhost:8080/"
        },
        "id": "JeXLBj5dgE6p",
        "outputId": "75afdc7e-713d-4345-883b-469805ec6251"
      },
      "execution_count": 49,
      "outputs": [
        {
          "output_type": "execute_result",
          "data": {
            "text/plain": [
              "{1, 2}"
            ]
          },
          "metadata": {},
          "execution_count": 49
        }
      ]
    },
    {
      "cell_type": "code",
      "source": [
        "# Try to add the same element\n",
        "x.add(1)\n",
        "#Show\n",
        "x\n"
      ],
      "metadata": {
        "colab": {
          "base_uri": "https://localhost:8080/"
        },
        "id": "n3hNxNXLgI0v",
        "outputId": "da94cc76-fcc5-4474-93b6-19aab122719b"
      },
      "execution_count": 50,
      "outputs": [
        {
          "output_type": "execute_result",
          "data": {
            "text/plain": [
              "{1, 2}"
            ]
          },
          "metadata": {},
          "execution_count": 50
        }
      ]
    },
    {
      "cell_type": "markdown",
      "source": [
        "Notice how it won't place another 1 there. That's because a set is only concerned with unique elements! We can cast a list with multiple repeat elements to a set to get the unique\n",
        "elements. For example:"
      ],
      "metadata": {
        "id": "tiRAJ3wxgLIy"
      }
    },
    {
      "cell_type": "code",
      "source": [
        "# Create a list with repeats\n",
        "l = [1,1,2,2,3,4,5,6,1,1]\n",
        "# Cast as set to get unique values\n",
        "set(l)\n",
        "{1, 2, 3, 4, 5, 6}"
      ],
      "metadata": {
        "colab": {
          "base_uri": "https://localhost:8080/"
        },
        "id": "2kBXBCJhgONo",
        "outputId": "b023121b-9c1c-4a76-d5ea-a3c90faf2b5a"
      },
      "execution_count": 51,
      "outputs": [
        {
          "output_type": "execute_result",
          "data": {
            "text/plain": [
              "{1, 2, 3, 4, 5, 6}"
            ]
          },
          "metadata": {},
          "execution_count": 51
        }
      ]
    }
  ]
}