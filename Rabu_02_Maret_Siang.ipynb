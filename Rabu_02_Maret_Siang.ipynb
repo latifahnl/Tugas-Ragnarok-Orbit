{
  "cells": [
    {
      "cell_type": "markdown",
      "id": "8818d65d",
      "metadata": {
        "id": "8818d65d"
      },
      "source": [
        "1. Write a method is divisible that takes two integers, m and n. The method returns True if\n",
        "m is divisible by n, and returns False otherwise.\n"
      ]
    },
    {
      "cell_type": "code",
      "execution_count": null,
      "id": "fdae91b2",
      "metadata": {
        "id": "fdae91b2",
        "outputId": "ea829f2f-256d-4a38-ec24-5f37c09ffdd4"
      },
      "outputs": [
        {
          "name": "stdout",
          "output_type": "stream",
          "text": [
            "Silakan Masukan Angka Pertama 4\n",
            "Silakan Masukan Angka Kedua 0\n",
            "False\n"
          ]
        }
      ],
      "source": [
        "m=int(input(\"Silakan Masukan Angka Pertama \"))\n",
        "n=int(input(\"Silakan Masukan Angka Kedua \"))\n",
        "\n",
        "if n == 0:\n",
        "    print(False)\n",
        "else:\n",
        "    print(True)\n",
        "    hasil = m/n"
      ]
    },
    {
      "cell_type": "markdown",
      "id": "8ec07250",
      "metadata": {
        "id": "8ec07250"
      },
      "source": [
        "### 2. Write a function that first displays a simple caf´e menu (see example below), asks the user to enter the number of a choice, and either prints the appropriate action OR prints an error message that their choice was not valid.\n",
        "Example output:\n",
        "\n",
        " menu()\n",
        "1. Soup and salad\n",
        "2. Pasta with meat sauce\n",
        "3. Chef’s special\n",
        "Which number would you like to order? 2\n",
        "One Pasta with meat sauce coming right up!\n",
        "\n",
        "Another example output:\n",
        "\n",
        "menu()\n",
        "1. Soup and salad\n",
        "2. Pasta with meat sauce\n",
        "3. Chef’s special\n",
        "Which number would you like to order? 5\n",
        "Sorry, that is not a valid choice.\n"
      ]
    },
    {
      "cell_type": "code",
      "execution_count": null,
      "id": "122e5388",
      "metadata": {
        "id": "122e5388",
        "outputId": "945cc765-8460-441a-9bab-ed6e3babffd5"
      },
      "outputs": [
        {
          "name": "stdout",
          "output_type": "stream",
          "text": [
            "Welcome! >_<\n",
            " MENU()\n",
            "    1. Soup and salad\n",
            "    2. Pasta with meat sauce\n",
            "    3. Chef’s special\n",
            "    \n",
            "    Which number would you like to order 3\n",
            "One Chef’s special coming right up!\n"
          ]
        }
      ],
      "source": [
        "print(\"Welcome! >_<\")\n",
        "\n",
        "\n",
        "menu=float(input(\"\"\" MENU()\n",
        "    1. Soup and salad\n",
        "    2. Pasta with meat sauce\n",
        "    3. Chef’s special\n",
        "    \n",
        "    Which number would you like to order \"\"\"))\n",
        "if menu ==1:\n",
        "    print(\"One Soup and saladcoming right up!\")\n",
        "elif menu ==2:\n",
        "    print(\"One Pasta with meat sauce coming right up!\")\n",
        "elif menu ==3:\n",
        "    print(\"One Chef’s special coming right up!\")\n",
        "else:\n",
        "    print(\"Sorry, that is not a valid choice.\")\n",
        "    \n",
        "    "
      ]
    },
    {
      "cell_type": "markdown",
      "id": "0825e7f6",
      "metadata": {
        "id": "0825e7f6"
      },
      "source": [
        "3. Write a method rand_divis_3 that takes no parameters and returns True if a number is divisible by 3, and False otherwise."
      ]
    },
    {
      "cell_type": "code",
      "execution_count": null,
      "id": "5f34ccb8",
      "metadata": {
        "id": "5f34ccb8",
        "outputId": "abf14d98-2af5-42db-d73d-7fcde401f38c"
      },
      "outputs": [
        {
          "name": "stdout",
          "output_type": "stream",
          "text": [
            "Random divisible by 3.\n",
            "The random number generated is 58\n",
            "Is it divisible by 3?: False\n",
            "The random number generated is 89\n",
            "Is it divisible by 3?: False\n",
            "The random number generated is 63\n",
            "Is it divisible by 3?: True\n",
            "The random number generated is 46\n",
            "Is it divisible by 3?: False\n",
            "The random number generated is 54\n",
            "Is it divisible by 3?: True\n",
            "The random number generated is 44\n",
            "Is it divisible by 3?: False\n",
            "The random number generated is 82\n",
            "Is it divisible by 3?: False\n",
            "The random number generated is 66\n",
            "Is it divisible by 3?: True\n",
            "The random number generated is 68\n",
            "Is it divisible by 3?: False\n",
            "The random number generated is 83\n",
            "Is it divisible by 3?: False\n"
          ]
        }
      ],
      "source": [
        "import random\n",
        "\n",
        "#will use random.randint(lo, hi); returns a number from lo to hi inclusive\n",
        "\n",
        "print (\"Random divisible by 3.\")\n",
        "\n",
        "def rand_divis_3():\n",
        "    rng = random.randint(0, 100)\n",
        "    print(\"The random number generated is \" + str(rng))\n",
        "    print(\"Is it divisible by 3?: \" + str(rng%3 == 0))\n",
        "\n",
        "for i in range(0, 10):\n",
        "    rand_divis_3()\n",
        "\n"
      ]
    },
    {
      "cell_type": "markdown",
      "id": "9209cb00",
      "metadata": {
        "id": "9209cb00"
      },
      "source": [
        "4. Imagine that Python doesn’t have the != operator built in. Write a method not equal that takes two parameters and gives the same result as the != operator. Obviously, you cannot use != within your function! Test if your code works by thinking of examples and making sure the output is the same for your new method as != gives you."
      ]
    },
    {
      "cell_type": "code",
      "execution_count": null,
      "id": "2c604f89",
      "metadata": {
        "id": "2c604f89",
        "outputId": "b2da95d4-8b32-4dbd-8b83-0f4fd16ef721"
      },
      "outputs": [
        {
          "name": "stdout",
          "output_type": "stream",
          "text": [
            "Masukan angka 1 :3\n",
            "Masukan angka 2 :3\n",
            "Angka 1 dan angka 2 SAMA\n"
          ]
        }
      ],
      "source": [
        "a = int(input(\"Masukan angka 1 :\"))\n",
        "b = int(input(\"Masukan angka 2 :\"))\n",
        "if a == b:\n",
        "    print(\"Angka 1 dan angka 2 SAMA\")\n",
        "else:\n",
        "    print(\"Angka 1 dan angka 2 TIDAK SAMA\")"
      ]
    },
    {
      "cell_type": "code",
      "execution_count": null,
      "id": "66b2b8e5",
      "metadata": {
        "id": "66b2b8e5",
        "outputId": "83faad7e-5fe2-46d2-f855-5dff70ae96f1"
      },
      "outputs": [
        {
          "name": "stdout",
          "output_type": "stream",
          "text": [
            "Enter your name :ani\n",
            "Your name is  ani\n"
          ]
        }
      ],
      "source": [
        "def ask_name():\n",
        "    name = input(\"Enter your name :\")\n",
        "    print(\"Your name is \", name)\n",
        "ask_name()\n",
        "    "
      ]
    }
  ],
  "metadata": {
    "kernelspec": {
      "display_name": "Python 3 (ipykernel)",
      "language": "python",
      "name": "python3"
    },
    "language_info": {
      "codemirror_mode": {
        "name": "ipython",
        "version": 3
      },
      "file_extension": ".py",
      "mimetype": "text/x-python",
      "name": "python",
      "nbconvert_exporter": "python",
      "pygments_lexer": "ipython3",
      "version": "3.9.7"
    },
    "colab": {
      "name": "Rabu_02_Maret_Siang.ipynb",
      "provenance": []
    }
  },
  "nbformat": 4,
  "nbformat_minor": 5
}