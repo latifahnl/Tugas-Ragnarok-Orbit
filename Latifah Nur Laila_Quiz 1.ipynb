{
 "cells": [
  {
   "cell_type": "markdown",
   "id": "d384c1e6",
   "metadata": {},
   "source": [
    "# Sesi Pagi"
   ]
  },
  {
   "cell_type": "markdown",
   "id": "155db468",
   "metadata": {},
   "source": [
    "### Python OOP"
   ]
  },
  {
   "cell_type": "markdown",
   "id": "5fc469eb",
   "metadata": {},
   "source": [
    "#### 1. Apa itu OOP dan cobalah buat 2 implementasi konsep OOP menggunakan python! "
   ]
  },
  {
   "cell_type": "markdown",
   "id": "36c4d167",
   "metadata": {},
   "source": [
    "Object-Oriented Programming (OOP) adalah suatu metode pemprograman yang berorientasi objek atau paradigma pemprograman yang mempresentasikan objek seperti objek disekitar dalam bentuk kode program"
   ]
  },
  {
   "cell_type": "code",
   "execution_count": 23,
   "id": "1a6d49da",
   "metadata": {},
   "outputs": [
    {
     "name": "stdout",
     "output_type": "stream",
     "text": [
      "SM Tech \n",
      "SM Tech \n",
      "nama: karina, usia: 20, jenis: Rocket Puncher, aenergy: True\n"
     ]
    }
   ],
   "source": [
    "class kwangya(object):\n",
    "    def __init__(self, nama, usia, jenis, aenergy):\n",
    "        self.nama = nama\n",
    "        self.usia = usia\n",
    "        self.jenis = jenis\n",
    "        self.aenergy = aenergy\n",
    "\n",
    "    def __culture(self, durasi):\n",
    "        for x in range(durasi):\n",
    "            print(\"SM Tech \")\n",
    "\n",
    "    def info(self):\n",
    "        self.__culture(2)\n",
    "        print(f\"nama: {self.nama}, usia: {self.usia}, jenis: {self.jenis}, aenergy: {self.aenergy}\")\n",
    "\n",
    "DC1 = kwangya(\"karina\", 20, \"Rocket Puncher\", True)\n",
    "\n",
    "DC1.info()"
   ]
  },
  {
   "cell_type": "code",
   "execution_count": 24,
   "id": "74384183",
   "metadata": {},
   "outputs": [
    {
     "name": "stdout",
     "output_type": "stream",
     "text": [
      "Fauna Indonesia\n",
      "Fauna Indonesia\n",
      "nama: Komodo, daerah: Zona Peralihan, zfauna: True\n"
     ]
    }
   ],
   "source": [
    "class zona(object):\n",
    "    def __init__(self, nama, daerah, zfauna):\n",
    "        self.nama = nama\n",
    "        self.daerah = daerah\n",
    "        self.zfauna = zfauna\n",
    "\n",
    "    def __garis(self, durasi):\n",
    "        for x in range(durasi):\n",
    "            print(\"Fauna Indonesia\")\n",
    "\n",
    "    def info(self):\n",
    "        self.__garis(2)\n",
    "        print(f\"nama: {self.nama}, daerah: {self.daerah}, zfauna: {self.zfauna}\")\n",
    "\n",
    "satwa1 = zona(\"Komodo\", \"Zona Peralihan\", True)\n",
    "\n",
    "satwa1.info()"
   ]
  },
  {
   "cell_type": "markdown",
   "id": "332a0a66",
   "metadata": {},
   "source": [
    "#### 2. Sebutkan dan jelaskan 2 jenis modules yang ada di Python!"
   ]
  },
  {
   "cell_type": "markdown",
   "id": "1cdf4534",
   "metadata": {},
   "source": [
    "1. Python Custon Modules \n",
    "File berekstensi .py berisi kode python yang dapat diimport dalam program python lain. Berisi komponen function definition,class implementation, dan variables\n",
    "2.Python Built In Modules\n",
    "Python memiliki banyak fungsi bawaan, Modul built-in ditulis dalam C dan terintegrasi dengan shell Python. Setiap modul bawaan berisi sumber daya untuk fungsi khusus sistem tertentu seperti manajemen OS, IO disk, dll. Library standar juga berisi banyak script Python (dengan ekstensi .py) yang berisi utilitas yang berguna. Untuk melihat daftar semua modul menggunakan perintah help(''modules)"
   ]
  },
  {
   "cell_type": "markdown",
   "id": "5fd85040",
   "metadata": {},
   "source": [
    "#### 3. Hitunglah berapa hasil dari 175 + 4√7+ (1/3) + ³log 81 menggunakan module math!"
   ]
  },
  {
   "cell_type": "code",
   "execution_count": 25,
   "id": "b6654452",
   "metadata": {},
   "outputs": [],
   "source": [
    "import math"
   ]
  },
  {
   "cell_type": "code",
   "execution_count": 26,
   "id": "62f19fc6",
   "metadata": {},
   "outputs": [],
   "source": [
    "no3 = 175 + 4*math.sqrt(7)+ 1/3 + math.log(81,3)"
   ]
  },
  {
   "cell_type": "code",
   "execution_count": 27,
   "id": "9cb28061",
   "metadata": {},
   "outputs": [
    {
     "data": {
      "text/plain": [
       "189.91633857759172"
      ]
     },
     "execution_count": 27,
     "metadata": {},
     "output_type": "execute_result"
    }
   ],
   "source": [
    "no3"
   ]
  },
  {
   "cell_type": "markdown",
   "id": "bc318284",
   "metadata": {},
   "source": [
    "#### 4. Apa itu custom exception handling dan berikan 1 contoh implementasinya!"
   ]
  },
  {
   "cell_type": "markdown",
   "id": "61efb23c",
   "metadata": {},
   "source": [
    "Exception Handling adalah event yang terjadi ketika program menemui kesalahan pada saat instruksi program dijalankan. Banyak hal yang dapat menimbulkan event ini,\n",
    "misalnya crash, harddisk rusak dengan tiba-tiba, sehingga program-program tidak bisa mengakses file-file tertentu. Programmer pun dapat menimbulkan event ini, misalnya\n",
    "dengan melakukan pembagian dengan bilangan nol, atau pengisian elemen array melebihi jumlah elemen array yang dialokasikan dan sebagainya."
   ]
  },
  {
   "cell_type": "code",
   "execution_count": 29,
   "id": "895676ab",
   "metadata": {},
   "outputs": [
    {
     "name": "stdout",
     "output_type": "stream",
     "text": [
      "Key Tidak Ditemukan\n",
      "finally block, always executed\n"
     ]
    }
   ],
   "source": [
    "fauna = {'nama':'Cendrawasih', 'zona':'Australis'}\n",
    "\n",
    "try:\n",
    "    print(fauna['garis'])\n",
    "except LookupError:\n",
    "    print('Key Tidak Ditemukan')\n",
    "else:\n",
    "    print('executed only when exception does not occur')\n",
    "finally:\n",
    "    print('finally block, always executed')"
   ]
  },
  {
   "cell_type": "markdown",
   "id": "8aa4ae26",
   "metadata": {},
   "source": [
    "### Artificial Intelligence"
   ]
  },
  {
   "cell_type": "markdown",
   "id": "88856ee5",
   "metadata": {},
   "source": [
    "#### 1. Apa perbedaan dari structured dan unstructured data dan sebutkan 3 sumber data!"
   ]
  },
  {
   "cell_type": "markdown",
   "id": "54a48830",
   "metadata": {},
   "source": [
    "*structured data : data yang dapat diproses, disimpan, dan diambil dalam format tetap. Jenis data ini disimpan dalam bentuk tabel, baris dan kolom yang normalnya disimpan dalam excel atau spreadsheet, dimana informasi pada data sangat terorganisir dan dapat dengan mudah diakses dari database dengan algoritma mesin pencari sederhana.\n",
    "\n",
    "*unstructured data : data dengan bentuk yang tidak dikenal, harus disimpan dengan format khusus karena tidak memiliki struktur yang spesifik seperti jenis data structured. Raw data dari jenis data ini hanya dapat menghasilkan nilai setelah diproses dan dianalisa. Menyimpan data jenis ini pun memiliki kerumitan seperti memerlukan penggunaan sistem penyimpanan yang memadai, seperti database NoSQL (MongoDB dan CouchDB)\n",
    "\n",
    "*sumber data: Sensors/meters and activity records from electronic devices, social interaction, business transactions, electronic files, broadcasting"
   ]
  },
  {
   "cell_type": "markdown",
   "id": "31bf2563",
   "metadata": {},
   "source": [
    "#### 2. Jelaskan perbedaan Al, Machine Learning dan Deep Learning! "
   ]
  },
  {
   "cell_type": "markdown",
   "id": "ed340cb9",
   "metadata": {},
   "source": [
    "*Al : Artificial dapat diartikan sebagai buatan dan Intelligence diartikan sebagai kecerdasan, sehingga dapat diartikan kecerdasan buatan. Artificial Intelligence (AI) merupakan program komputer yang dirancang mengikuti tindakan dan pola pikir manusia, dimana dapat memproses serta menalar probabilitas dan bisa menjadi problem solver yang mempersingkat waktu kerja manusia sehingga manusia bisa bekerja lebih produktif, efektif dan efisien.\n",
    "\n",
    "*Machine Learning (ML):merupakan pendekatan dalam AI yang banyak digunakan untuk menggantikan atau menirukan perilaku manusia untuk menyelesaikan masalah atau melakukan otomatisasi dengan mencoba menirukan bagaimana proses manusia atau makhluk cerdas belajar dan mengeneralisasi. Ciri khas dari ML yaitu adanya proses pelatihan, pembelajaran, atau training. Sehingga membutuhkan data training untuk dipelajari. Aplikasi dalam ML terdapat  klasifikasi dan prediksi dengan metode Sistem Rekomendasi, Support Vector Machine (SVM) dan Neural Network\n",
    "\n",
    "*Deep Learning: Bagian dari ML yang memungkinkan software melatih dirinya sendiri untuk melakukan tugas dengan data dalam jumlah besar.Waktu yang dibutuhkan untuk training akan semakin sedikit karena masalah hilangnya gradien pada propagasi balik akan semakin rendah. Beberapa jenis DL antara lain Deep Auto Encoder, Deep Belief Nets, Convolutional NN,dsb."
   ]
  },
  {
   "cell_type": "markdown",
   "id": "8c87df8c",
   "metadata": {},
   "source": [
    "#### 3. Apa perbedaan Machine Learning dengan Tradisional software?"
   ]
  },
  {
   "cell_type": "markdown",
   "id": "35ab65aa",
   "metadata": {},
   "source": [
    "*Tradisional software : Harapan dijalankannya program dapat menghasilkan output berdasarkan data yang ada dengan input data dan program dalam komputer kemudian diproses hingga diperoleh output. \n",
    "\n",
    "*Machine Learning : data dan output merupakan hal yang telah ada dan dijadikan sebagai inputan ke dalam komputer, output yang diperoleh yaitu program dapat berjalan sendiri secara otomatis tanpa bantuan manusia untuk menghasilkan output baru."
   ]
  },
  {
   "cell_type": "markdown",
   "id": "fe986ff8",
   "metadata": {},
   "source": [
    "#### 4. Sebutkan 3 contoh aplikasi Machine Learning di sektor smart city dan agriculture!"
   ]
  },
  {
   "cell_type": "markdown",
   "id": "80335cb3",
   "metadata": {},
   "source": [
    "*sektor smart city:Jogja Smart Service (JSS), Jakarta Smart City, Bandung Smart City, e-tilang, Pelayanan Terpadu Satu Pintu (One Stop Service)\n",
    "\n",
    "*sektor agriculture : FJ Dynamics,TniHub, SayurBox, Smart Farming 4.0, Agri Drone Sprayer (Drone penyemprot pestisida dan pupuk cair), Drone Surveillance (Drone untuk pemetaan lahan) serta Soil, Weather Sensor (Sensor tanah dan cuaca)"
   ]
  },
  {
   "cell_type": "markdown",
   "id": "b858021a",
   "metadata": {},
   "source": [
    "### Maths for Al"
   ]
  },
  {
   "cell_type": "markdown",
   "id": "94cc8049",
   "metadata": {},
   "source": [
    "#### 1. Mengapa ilmu matematika penting ketika mempelajari Al?\n"
   ]
  },
  {
   "cell_type": "markdown",
   "id": "1efb78bb",
   "metadata": {},
   "source": [
    "bidang matematika yang berperan dalam pembelajaran mesin yaitu:\n",
    "1. Statistika : digunakan untuk mencari tahu hubungan antara data dan variabel-variabel dalam data. Salah satu metode dalam statistika adalah metode regresi linier yang digunakan untuk menyimpulkan kecenderungan suatu data. \n",
    "\n",
    "2. Kalkulus : Fungsi, turunan dan optimalisasi digunakan dalam pembelajaran mesin menggunakan suatu algoritma yaitu gradient descent yang digunakan untuk menemukan arah dari steepest descent yang dapat menentukan titik terdalam pada satu grafik data. Setelah ditemukannya titik terdalam tersebut, suatu garis regresi linier dapat ditentukan.Contohnya pada algoritma support vector machine (SVM)\n",
    "\n",
    "3. Aljabar Linier : ilmu yang mempelajari tentang vektor dan aturan-aturan untuk memanipulasi vektor yang menjadi dasar dari gradient descent dalam kalkulus.\n",
    "\n",
    "4. probabilitas, yakni ilmu yang dapat memberikan informasi tentang seberapa mungkin suatu kejadian dapat terjadi.\n",
    "\n",
    "Pentingnya matematika pada pembelajaran AI karena matematika saling berkaitan membentuk dasar dari pembelajaran mesin. Sehingga untuk berkontribusi dalam perkembangan AI, keempat bidang matematika ini harus dipelajari."
   ]
  },
  {
   "cell_type": "markdown",
   "id": "a30925de",
   "metadata": {},
   "source": [
    "#### 2. Jelaskan perbedaan vektor dan skalar! "
   ]
  },
  {
   "cell_type": "markdown",
   "id": "f04e5321",
   "metadata": {},
   "source": [
    "*Vektor adalah besaran yang memiliki arah. Dalam ilmu data, vektor merupakan kumpulan nilai dari variabel tertentu. Contohnya kecepatan, percepatan, gaya, dan momentum, dll\n",
    "\n",
    "*Skalar adalah besaran atau konstanta yang memiliki nilai dan tidak memiliki arah. Contohnya massa, volume, massa jenis, dan suhu merupakan contoh besaran skalar, dll."
   ]
  },
  {
   "cell_type": "markdown",
   "id": "f8c7d9b6",
   "metadata": {},
   "source": [
    "#### 3. Apa perbedaan dari Jarak Euclidean dan Manhattan?"
   ]
  },
  {
   "cell_type": "markdown",
   "id": "c1a3ec15",
   "metadata": {},
   "source": [
    "Jarak Euclidean : jarak antar titik dalam garis lurus. Perhitungan untuk mengukur jarak dua titik dalam euclidean space yang mempelajari hubungan antara sudut dan jarak. Metode ini menggunakan teorema Pythagoras dan merupakan perhitungan jarak yang paling sering digunakan dalam proses machine learning.\n",
    "\n",
    "Jarak Manhattan : atau “city block distance” merupakan jumlah jarak dari semua attribute. metode perhitungan jarak pada ruang jarak dengan menerapkan konsep selisih mutlak."
   ]
  },
  {
   "cell_type": "markdown",
   "id": "c9bd2180",
   "metadata": {},
   "source": [
    "#### 4. Apa kegunaan matriks dalam ilmu matematika ketika menerapkan Al?"
   ]
  },
  {
   "cell_type": "markdown",
   "id": "717156d5",
   "metadata": {},
   "source": [
    "untuk menyelesaikan berbagai permasalahan matematika misalnya dalam menemukan solusi masalah persamaan linear, memudahkan dalam membuat analisis yang mengandung bermacam –  macam variable, membantu perhitungan yang memiliki orde banyak sehingga perhitungannya pun lebih cepat dan efisien, dapat digunakan untuk membuat pemrograman suatu sistem di pemerintahan atau korporasi, statistik, manajemen informatika, dan bidang lainnya."
   ]
  },
  {
   "cell_type": "markdown",
   "id": "773f211c",
   "metadata": {},
   "source": [
    "### Machine Learning"
   ]
  },
  {
   "cell_type": "markdown",
   "id": "42ba18f4",
   "metadata": {},
   "source": [
    "#### 1. Jelaskan perbedaan supervised dan unsupervised learning dan sebutkan 2 contohnya! "
   ]
  },
  {
   "cell_type": "markdown",
   "id": "35677a88",
   "metadata": {},
   "source": [
    "* Supervised learning : Machine Learning model yang mempelajari data dengan label atau target dimana evaluasi model tersebut akan berdasarkan target. Model ini membutuhkan data training berupa input data dan target data yang diinginkan dan dilatih untuk melakukan prediksi berdasarkan pola yang ditemukan dalam menjawab data target.Menggunakan data training untuk membuat machine learning model dan akan digunakan untuk diuji pada data test. Model dievaluasi berdasarkan dari hasil prediksi yang dilatih menggunakan Training Data dan dibandingkan hasilnya dengan prediksi oleh Test data.Contohnya algoritma klasifikasi untuk memprediksi fitur kategori (Ya/Tidak, Mau/Tidak Mau) dan Regresi untuk memprediksi fitur kontinu (harga rumah, harga saham). \n",
    "\n",
    "Contoh model yang sering diaplikasikan adalah: Linear Regression, Logistic Regression, Random Forest, XGBoost, K-NN, SVM.\n",
    "\n",
    "* Unsupervised learning : Machine Learning Model yang mempelajari pola data tanpa adanya target data, hanya memerlukan data input tanpa contoh target data. Model ini hanya mencoba menemukan pola dan menemukan insight penting dari data(data mining).Tidak menggunakan data training dan hanya tergantung pada data test sehingga tidak dapat melakukan evaluasi terhadap model. Evaluasi model secara subjektif untuk mengetahui apakah prediksi yang dilakukan telah sesuai, karena pengukuran evaluasi secara statistik pada unsupervised learning tidak memiliki jawaban yang benar. Contohnya algoritma Clustering untuk melakukan segmentasi data (segmentasi pelanggan, segmentasi risiko,) dan Dimensional Reduction. \n",
    "\n",
    "Contoh model yang sering diaplikasikan adalah: K-Means, DBSCAN, PCA, SVD\n",
    "\n"
   ]
  },
  {
   "cell_type": "markdown",
   "id": "f4bc3dbb",
   "metadata": {},
   "source": [
    "#### 2. Sebutkan setiap tahap yang ada di Machine Learning life cycle dan jelaskan!"
   ]
  },
  {
   "cell_type": "markdown",
   "id": "4d3afdbe",
   "metadata": {},
   "source": [
    "1. Menentukan Tujuan\n",
    "2. Mengumpulkan Data\n",
    "3. Menyiapkan Data\n",
    "4. Memilih Algoritma\n",
    "5. Melatih Model\n",
    "6. Melakukan Test Model\n",
    "7. Integrasikan Model"
   ]
  },
  {
   "cell_type": "markdown",
   "id": "eedb86ed",
   "metadata": {},
   "source": [
    "#### 3. Apa perbedaan regression dengan clustering?"
   ]
  },
  {
   "cell_type": "markdown",
   "id": "efbb9ed2",
   "metadata": {},
   "source": [
    "*Regresi adalah suatu teknik analisis untuk mengidentifikasi relasi atau hubungan diantara dua variabel atau lebih. Regresi bertujuan untuk menemukan suatu fungsi yang memodelkan data dengan meminimalkan error atau selisih antara nilai prediksi dengan nilai sebenarnya. Dalam regresi, ada dua jenis variabel yaitu Dependent variable (variabel yang akan kita prediksi atau pelajari) berupa nilai kontinu dinotasikan dengan Y dan Independent variable (variabel yang menjelaskan atau menyebabkan nilai target di variabel dependen) berupa nilai kontinu maupun kategoridinotasikan dengan X. \n",
    "\n",
    "Pada dasarnya, ada dua tipe model regresi yaitu:\n",
    "1. Simple regression adalah ketika hanya satu variabel independen yang digunakan untuk memprediksi dependen variabel, bisa berupa linear (simple linear regression) maupun non-linear (simple non-linear regression). Misalnya memprediksi harga mobil hanya dengan berdasarkan engine-size saja.\n",
    "2. Multiple regression adalah ketika ada lebih dari satu variabel independen yang digunakan untuk memprediksi variabel dependen. Misalnya memprediksi harga mobil berdasarkan engine-size, body-style, horsepower, dan sebagainya.\n",
    "\n",
    "Beberapa algoritma regresi yaitu: Linear Regression,Polynomial Regression,Lasso Regression,Ridge Regression,Bayesian Linear Regression,Decision Tree Regression, Neural Network Regression,dan lain-lain.\n",
    "\n",
    "\n",
    "*Clustering termasuk unsupervised learning. Clustering dilakukan untuk menemukan klaster dari sebuah dataset. Klaster adalah sebuah kumpulan data atau objek yang memiliki kemiripan satu sama lain di dalam kumpulan atau kelompok tersebut, dan berbeda dengan objek di kelompok lain. Dalam clustering, data tidak berlabel dan umumnya banyak digunakan untuk segmentasi. Proses segmentasi biasanya tidak dapat dikerjakan dengan mudah untuk data dengan jumlah yang sangat besar, oleh karena itu dibutuhkan pendekatan analitis untuk membagi data tersebut menjadi bagian-bagian yang lebih kecil berdasarkan kemiripan karakteristiknya. Algoritma clustering terbagi menjadi tiga jenis, yaitu \n",
    "1. Partition-based clustering merupakan kelompok algoritma yang menghasilkan bagian-bagian yang lebih kecil. Contoh algoritma jenis ini : K-Means, K-Median, atau Fuzzy c-Means. Algoritma-algoritma ini relatif efisien dan digunakan untuk data dengan jumlah sedang dan besar.\n",
    "2. Hierarchical clustering merupakan algoritma yang menghasilkan pohon-pohon klaster. Contohnya algoritma Agglomerative dan Divisive. Algoritma ini sangat intuitif dan secara umum baik digunakan untuk dataset berukuran kecil alias tidak terlalu mengandung banyak data.\n",
    "3. Density-based clustering menghasilkan klaster-klaster sesuai kehendaknya. Karena membentuk klaster sesuai kehendaknya, algoritma ini bekerja dengan baik ketika berurusan dengan noise yang ada di dataset atau ketika ada data yang tidak masuk ke klaster manapun. Contoh algoritma ini adalah DBSCAN."
   ]
  },
  {
   "cell_type": "markdown",
   "id": "eabf8dc9",
   "metadata": {},
   "source": [
    "#### 4. Apa itu algoritma Artificial Neural Network dan untuk apa fungsinya?"
   ]
  },
  {
   "cell_type": "markdown",
   "id": "63f8997d",
   "metadata": {},
   "source": [
    "Artificial Neural Network(ANN) adalah teknologi AI yang meniru dan terinspirasi dari cara kerja neuron pada otak manusia.Merupakan gabungan dari beberapa neuron(perceptron) yang disusun dalam beberapa layer dan merupakan cikal bakal dari deep learning.\n",
    "\n",
    "Dengan menggunakan algoritma ANN maka:\n",
    "Pembelajaran adaptif: Kemampuan untuk belajar dalam melakukan tugas-tugas berdasarkan data yang diberikan\n",
    "Self-Organization: Sebuah Neural Network dapat membangun representasi dari informasi yang diterimanya selama proses pembelajaran secara mandiri\n",
    "Operasi Real-Time: Penghitungan Neural Network dapat dilakukan secara paralel, sehingga proses komputasi menjadi lebih cepat."
   ]
  }
 ],
 "metadata": {
  "kernelspec": {
   "display_name": "Python 3",
   "language": "python",
   "name": "python3"
  },
  "language_info": {
   "codemirror_mode": {
    "name": "ipython",
    "version": 3
   },
   "file_extension": ".py",
   "mimetype": "text/x-python",
   "name": "python",
   "nbconvert_exporter": "python",
   "pygments_lexer": "ipython3",
   "version": "3.8.8"
  }
 },
 "nbformat": 4,
 "nbformat_minor": 5
}
