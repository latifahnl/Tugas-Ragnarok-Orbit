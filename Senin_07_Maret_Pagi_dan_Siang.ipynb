{
  "cells": [
    {
      "cell_type": "markdown",
      "source": [
        "## Sesi Pagi"
      ],
      "metadata": {
        "id": "xerfq0drjWQs"
      },
      "id": "xerfq0drjWQs"
    },
    {
      "cell_type": "markdown",
      "id": "d8c7d1ce",
      "metadata": {
        "id": "d8c7d1ce"
      },
      "source": [
        " Membuat 3 OOP beserta turunannya dari objek sekitar"
      ]
    },
    {
      "cell_type": "markdown",
      "id": "be6fec9b",
      "metadata": {
        "id": "be6fec9b"
      },
      "source": [
        "* Encapsulation"
      ]
    },
    {
      "cell_type": "code",
      "execution_count": 2,
      "id": "6450c6c7",
      "metadata": {
        "colab": {
          "base_uri": "https://localhost:8080/"
        },
        "id": "6450c6c7",
        "outputId": "b943c084-6c61-416c-b68b-d6a7324515a7"
      },
      "outputs": [
        {
          "output_type": "stream",
          "name": "stdout",
          "text": [
            "nama: Latifah, usia: 21, prodi: Statistika, fakultas: FMIPA\n",
            "Data Mahasiswa\n"
          ]
        }
      ],
      "source": [
        "nama = \"Latifah\"\n",
        "usia = 21\n",
        "prodi = \"Statistika\"\n",
        "fakultas = \"FMIPA\"\n",
        "\n",
        "def data():\n",
        "    print(\"Data Mahasiswa\")\n",
        "\n",
        "def data_mahasiswa(nama, usia, prodi, fakultas):\n",
        "    print(f\"nama: {nama}, usia: {usia}, prodi: {prodi}, fakultas: {fakultas}\")\n",
        "\n",
        "data_mahasiswa(nama, usia, prodi, fakultas)\n",
        "data()"
      ]
    },
    {
      "cell_type": "code",
      "execution_count": 5,
      "id": "28740f8f",
      "metadata": {
        "colab": {
          "base_uri": "https://localhost:8080/"
        },
        "id": "28740f8f",
        "outputId": "1313d7e5-85d5-4815-bce7-2296fcc0242a"
      },
      "outputs": [
        {
          "output_type": "stream",
          "name": "stdout",
          "text": [
            "nama : Latifah, usia: 21, prodi: Statistika, fakultas: FMIPA\n",
            "None\n",
            "student.... Latifah\n",
            "None\n",
            "Statistika\n"
          ]
        }
      ],
      "source": [
        "class Mahasiswa(object):\n",
        "    \n",
        "    nama_mahasiswa = \"\"\n",
        "    def __init__(data, input_nama, input_usia, input_prodi, input_fakultas):\n",
        "        data.nama = input_nama\n",
        "        data.usia = input_usia\n",
        "        data.prodi = input_prodi\n",
        "        data.fakultas = input_fakultas\n",
        "        Mahasiswa.nama_mahasiswa = input_nama\n",
        "    \n",
        "    def status(data):\n",
        "        print(\"student....\", data.nama)\n",
        "    \n",
        "    def info(data):\n",
        "        print(f\"nama : {data.nama}, usia: {data.usia}, prodi: {data.prodi}, fakultas: {data.fakultas}\")\n",
        "        \n",
        "mahasiswa1 = Mahasiswa(\"Latifah\", 21, \"Statistika\", \"FMIPA\")\n",
        "\n",
        "print(mahasiswa1.info())\n",
        "print(mahasiswa1.status())\n",
        "print(mahasiswa1.prodi)"
      ]
    },
    {
      "cell_type": "markdown",
      "id": "d896fece",
      "metadata": {
        "id": "d896fece"
      },
      "source": [
        "* Inheritence"
      ]
    },
    {
      "cell_type": "code",
      "execution_count": 6,
      "id": "1c5a2bac",
      "metadata": {
        "colab": {
          "base_uri": "https://localhost:8080/"
        },
        "id": "1c5a2bac",
        "outputId": "0bffdd20-764d-4333-bd95-4eb92b48f258"
      },
      "outputs": [
        {
          "output_type": "stream",
          "name": "stdout",
          "text": [
            "ddrrr... ddrrr... \n",
            "ddrrr... ddrrr... \n",
            "nama: Pers, periode: 2, bidang: Bem Fakultas, alamat: Jakal\n"
          ]
        }
      ],
      "source": [
        "class UKM(object):\n",
        "    def __init__(self, nama, periode, bidang, alamat):\n",
        "        self.nama = nama\n",
        "        self.periode = periode\n",
        "        self.bidang = bidang\n",
        "        self.alamat = alamat\n",
        "\n",
        "    def __long(self, durasi):\n",
        "        for x in range(durasi):\n",
        "            print(\"ddrrr... ddrrr... \")\n",
        "\n",
        "    def info(self):\n",
        "        self.__long(2)\n",
        "        print(f\"nama: {self.nama}, periode: {self.periode}, bidang: {self.bidang}, alamat: {self.alamat}\")\n",
        "\n",
        "UKM1 = UKM(\"Pers\", 2, \"Bem Fakultas\", \"Jakal\")\n",
        "\n",
        "UKM1.info()"
      ]
    },
    {
      "cell_type": "code",
      "execution_count": 7,
      "id": "8c45df7d",
      "metadata": {
        "colab": {
          "base_uri": "https://localhost:8080/"
        },
        "id": "8c45df7d",
        "outputId": "effb6f84-9f4f-4539-afd4-c72480742421"
      },
      "outputs": [
        {
          "output_type": "stream",
          "name": "stdout",
          "text": [
            "ddrrr... ddrrr... \n",
            "ddrrr... ddrrr... \n",
            "nama: Pers, periode: 2, bidang: BEM Fakultas, alamat: Jakal\n",
            "jabatan: Kadif, masih_aktif: True\n"
          ]
        }
      ],
      "source": [
        "class Departemen(UKM):\n",
        "    def __init__(self, nama, periode, bidang, alamat, jabatan, masih_aktif):\n",
        "        super().__init__(nama, periode, bidang, alamat)\n",
        "        self.jabatan = jabatan\n",
        "        self.masih_aktif = masih_aktif\n",
        "\n",
        "    def status(self):\n",
        "        super()._long(2)\n",
        "        print(\"yaaaaaaa\")\n",
        "\n",
        "    def info_departemen(self):\n",
        "        self.info()\n",
        "        print(f\"jabatan: {self.jabatan}, masih_aktif: {self.masih_aktif}\")\n",
        "\n",
        "departemen1 = Departemen(\"Pers\", 2, \"BEM Fakultas\", \"Jakal\", \"Kadif\", True)\n",
        "\n",
        "departemen1.info_departemen()\n",
        "#departemen1.status()"
      ]
    },
    {
      "cell_type": "markdown",
      "id": "477bc114",
      "metadata": {
        "id": "477bc114"
      },
      "source": [
        "* Abstraction"
      ]
    },
    {
      "cell_type": "code",
      "execution_count": 8,
      "id": "b91999dc",
      "metadata": {
        "id": "b91999dc"
      },
      "outputs": [],
      "source": [
        "from abc import abstractmethod, ABC"
      ]
    },
    {
      "cell_type": "code",
      "execution_count": 9,
      "id": "42c7312f",
      "metadata": {
        "colab": {
          "base_uri": "https://localhost:8080/"
        },
        "id": "42c7312f",
        "outputId": "7ad59fe5-1ebe-405d-f2e4-0a44d10f16a3"
      },
      "outputs": [
        {
          "output_type": "stream",
          "name": "stdout",
          "text": [
            "We are inside test_class task\n",
            "Passed value:  100\n",
            "a\n",
            "We are inside example_class task\n",
            "Passed value:  200\n",
            "test_obj is instance of Absclass?  True\n",
            "example_obj is instance of Absclass?  True\n"
          ]
        }
      ],
      "source": [
        "class Absclass(ABC):\n",
        "    #Method biasa\n",
        "    def cetak(self,x):\n",
        "        print(\"Passed value: \", x)\n",
        "    \n",
        "    #Abstract Method\n",
        "    @abstractmethod\n",
        "    def task(self):\n",
        "        pass\n",
        "\n",
        "        \n",
        "class test_class(Absclass):\n",
        "    def task(self):\n",
        "        print(\"We are inside test_class task\")\n",
        "\n",
        "    def cetak2(self):\n",
        "        print('a')\n",
        "        \n",
        "        \n",
        "class example_class(Absclass):\n",
        "    def task(self):\n",
        "        print(\"We are inside example_class task\")\n",
        "\n",
        "\n",
        "#object of test_class created\n",
        "test_obj = test_class()\n",
        "test_obj.task()\n",
        "test_obj.cetak(100)\n",
        "test_obj.cetak2()\n",
        "\n",
        "\n",
        "#object of example_class created\n",
        "example_obj = example_class()\n",
        "example_obj.task()\n",
        "example_obj.cetak(200)\n",
        " \n",
        "print(\"test_obj is instance of Absclass? \", isinstance(test_obj, Absclass))\n",
        "print(\"example_obj is instance of Absclass? \", isinstance(example_obj, Absclass))"
      ]
    },
    {
      "cell_type": "code",
      "execution_count": 11,
      "id": "9d3b098f",
      "metadata": {
        "id": "9d3b098f"
      },
      "outputs": [],
      "source": [
        "class MataKuliah(ABC):\n",
        "    \n",
        "    @abstractmethod\n",
        "    def suara(self):\n",
        "        pass\n",
        "    \n",
        "class DatViz(MataKuliah):\n",
        "    def suara(self):\n",
        "        print(\"Wihii\")\n",
        "        \n",
        "class Kalkulus(MataKuliah):\n",
        "    def suara(self):\n",
        "        print(\"Allahuakbar\")"
      ]
    },
    {
      "cell_type": "code",
      "execution_count": 13,
      "id": "43711b91",
      "metadata": {
        "colab": {
          "base_uri": "https://localhost:8080/"
        },
        "id": "43711b91",
        "outputId": "e1bbaaaf-4087-43c8-f119-15eb4a972703"
      },
      "outputs": [
        {
          "output_type": "stream",
          "name": "stdout",
          "text": [
            "Wihii\n",
            "Allahuakbar\n"
          ]
        }
      ],
      "source": [
        "DatViz1 = DatViz()\n",
        "\n",
        "Kalkulus1 = Kalkulus()\n",
        "\n",
        "DatViz1.suara()\n",
        "Kalkulus1.suara()"
      ]
    },
    {
      "cell_type": "markdown",
      "id": "4d294a0d",
      "metadata": {
        "id": "4d294a0d"
      },
      "source": [
        "* Polymorphism\n"
      ]
    },
    {
      "cell_type": "code",
      "execution_count": 14,
      "id": "6a63321b",
      "metadata": {
        "colab": {
          "base_uri": "https://localhost:8080/"
        },
        "id": "6a63321b",
        "outputId": "213653d7-19c5-4259-ab08-e4a2b98d5fab"
      },
      "outputs": [
        {
          "output_type": "stream",
          "name": "stdout",
          "text": [
            "nama: Bumi, usia: 1000000, lokasi: ketiga terdekat dari matahari\n",
            "warna: hijau, jada_manusia: True\n",
            "ddrrr... ddrrr... \n",
            "ddrrr... ddrrr... \n",
            "ddrrr... ddrrr... \n",
            "ddrrr... ddrrr... \n",
            "ddrrr... ddrrr... \n",
            "nama: Saturnus, usia: 20000000, lokasi: terdekat ke 6 dari matahari\n",
            "ddrrr... ddrrr... \n",
            "ddrrr... ddrrr... \n",
            "kenyaang\n"
          ]
        }
      ],
      "source": [
        "class planet(object):\n",
        "  def __init__(self, nama, usia, lokasi):\n",
        "    self.nama = nama\n",
        "    self.usia = usia\n",
        "    self.lokasi = lokasi\n",
        "\n",
        "\n",
        "  def tidur(self, durasi):\n",
        "    for x in range(durasi):\n",
        "      print(\"ddrrr... ddrrr... \")\n",
        "\n",
        "  def info(self):\n",
        "    print(f\"nama: {self.nama}, usia: {self.usia}, lokasi: {self.lokasi}\")\n",
        "\n",
        "\n",
        "class Bumi(planet):\n",
        "  def __init__(self,  nama, usia, lokasi, warna, ada_manusia):\n",
        "    super().__init__(nama, usia, lokasi)\n",
        "    self.warna = warna\n",
        "    self.ada_manusia= ada_manusia\n",
        "  \n",
        "  def manusia(self, durasi):\n",
        "    print(\"yes... yes... \")\n",
        "\n",
        "  def info_bumi(self):\n",
        "    print(f\"warna: {self.warna}, jada_manusia: {self.ada_manusia}\")\n",
        "\n",
        "class Saturnus(planet):\n",
        "  def __init__(self, nama, usia, lokasi, warna, ciri2):\n",
        "    super().__init__(nama, usia, lokasi)\n",
        "    self.warna = warna\n",
        "    self.ciri2= ciri2\n",
        "  \n",
        "  def makan_ayam(self, human):\n",
        "    if human >=5 :\n",
        "      print(\"kenyaang\")\n",
        "    else:\n",
        "      print(\"lapaar\")\n",
        "\n",
        "bumi1 = Bumi(\"Bumi\", 1000000, \"ketiga terdekat dari matahari\", \"hijau\", True)\n",
        "\n",
        "bumi1.info()\n",
        "bumi1.info_bumi()\n",
        "bumi1.tidur(5)\n",
        "\n",
        "\n",
        "satur1 = Saturnus(\"Saturnus\", 20000000, \"terdekat ke 6 dari matahari\", \"range\",\"ada cincinnya\")\n",
        "\n",
        "satur1.info()\n",
        "satur1.tidur(2)\n",
        "satur1.makan_ayam(5)"
      ]
    },
    {
      "cell_type": "markdown",
      "source": [
        "## Sesi Siang\n"
      ],
      "metadata": {
        "id": "emW6r7ScmBG2"
      },
      "id": "emW6r7ScmBG2"
    },
    {
      "cell_type": "code",
      "source": [
        "import Operasi_Matematika as om"
      ],
      "metadata": {
        "id": "QtXIePwOmDKt"
      },
      "id": "QtXIePwOmDKt",
      "execution_count": 16,
      "outputs": []
    },
    {
      "cell_type": "code",
      "source": [
        "om.pertambahan(5,7)"
      ],
      "metadata": {
        "colab": {
          "base_uri": "https://localhost:8080/"
        },
        "id": "-tMYNQeOmZoP",
        "outputId": "d69719f8-f730-4557-822f-244bd08a249c"
      },
      "id": "-tMYNQeOmZoP",
      "execution_count": 17,
      "outputs": [
        {
          "output_type": "execute_result",
          "data": {
            "text/plain": [
              "12"
            ]
          },
          "metadata": {},
          "execution_count": 17
        }
      ]
    },
    {
      "cell_type": "code",
      "source": [
        "om.pengurangan(9,4)"
      ],
      "metadata": {
        "colab": {
          "base_uri": "https://localhost:8080/"
        },
        "id": "SRy7vTHkmb0K",
        "outputId": "3b16efab-21b2-48f3-92f6-07d97c025b8e"
      },
      "id": "SRy7vTHkmb0K",
      "execution_count": 18,
      "outputs": [
        {
          "output_type": "execute_result",
          "data": {
            "text/plain": [
              "5"
            ]
          },
          "metadata": {},
          "execution_count": 18
        }
      ]
    },
    {
      "cell_type": "code",
      "source": [
        "om.perkalian(3,7)"
      ],
      "metadata": {
        "colab": {
          "base_uri": "https://localhost:8080/"
        },
        "id": "TQNvS0rFmd_Z",
        "outputId": "75210e68-9ae0-4107-8ad8-ccadbdd779c9"
      },
      "id": "TQNvS0rFmd_Z",
      "execution_count": 19,
      "outputs": [
        {
          "output_type": "execute_result",
          "data": {
            "text/plain": [
              "21"
            ]
          },
          "metadata": {},
          "execution_count": 19
        }
      ]
    },
    {
      "cell_type": "code",
      "source": [
        "om.pembagian(9,3)"
      ],
      "metadata": {
        "colab": {
          "base_uri": "https://localhost:8080/"
        },
        "id": "zKA0yxNUmgNq",
        "outputId": "136997ca-3967-402a-d3c4-d744eefcab94"
      },
      "id": "zKA0yxNUmgNq",
      "execution_count": 20,
      "outputs": [
        {
          "output_type": "execute_result",
          "data": {
            "text/plain": [
              "3.0"
            ]
          },
          "metadata": {},
          "execution_count": 20
        }
      ]
    }
  ],
  "metadata": {
    "kernelspec": {
      "display_name": "Mining_Eyes",
      "language": "python",
      "name": "mining_eyes"
    },
    "language_info": {
      "codemirror_mode": {
        "name": "ipython",
        "version": 3
      },
      "file_extension": ".py",
      "mimetype": "text/x-python",
      "name": "python",
      "nbconvert_exporter": "python",
      "pygments_lexer": "ipython3",
      "version": "3.9.7"
    },
    "colab": {
      "name": "Senin_07_Maret_Pagi_dan_Siang.ipynb",
      "provenance": []
    }
  },
  "nbformat": 4,
  "nbformat_minor": 5
}