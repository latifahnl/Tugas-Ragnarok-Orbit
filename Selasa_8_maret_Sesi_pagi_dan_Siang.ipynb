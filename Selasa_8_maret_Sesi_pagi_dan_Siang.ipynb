{
  "cells": [
    {
      "cell_type": "markdown",
      "source": [
        "## Sesi Pagi "
      ],
      "metadata": {
        "id": "UbYZ1e2hnEw3"
      },
      "id": "UbYZ1e2hnEw3"
    },
    {
      "cell_type": "code",
      "execution_count": 1,
      "id": "ebd8f903",
      "metadata": {
        "id": "ebd8f903"
      },
      "outputs": [],
      "source": [
        "import numpy as np"
      ]
    },
    {
      "cell_type": "markdown",
      "id": "27ba6a91",
      "metadata": {
        "id": "27ba6a91"
      },
      "source": [
        "* Latihan 2"
      ]
    },
    {
      "cell_type": "code",
      "execution_count": 2,
      "id": "6b0cc54a",
      "metadata": {
        "colab": {
          "base_uri": "https://localhost:8080/"
        },
        "id": "6b0cc54a",
        "outputId": "3d1a1d61-ed8c-490b-d236-018bdf60bce4"
      },
      "outputs": [
        {
          "output_type": "stream",
          "name": "stdout",
          "text": [
            "[[1 2 3]\n",
            " [4 5 6]\n",
            " [7 8 9]] \n",
            "\n",
            "banyaknya entry =  9\n",
            "dimensi array =  2\n",
            "ukuran array =  (3, 3) \n",
            "\n"
          ]
        }
      ],
      "source": [
        "A = np.array([[1, 2, 3], [4, 5, 6], [7, 8, 9]])\n",
        "print(A, \"\\n\")\n",
        "#Lengkapi kodingan berikut\n",
        "print('banyaknya entry = ', A.size)\n",
        "print('dimensi array = ', A.ndim)\n",
        "print('ukuran array = ', A.shape, \"\\n\")"
      ]
    },
    {
      "cell_type": "markdown",
      "id": "91cb2257",
      "metadata": {
        "id": "91cb2257"
      },
      "source": [
        "* Latihan 3"
      ]
    },
    {
      "cell_type": "code",
      "execution_count": 3,
      "id": "ff221cb9",
      "metadata": {
        "colab": {
          "base_uri": "https://localhost:8080/"
        },
        "id": "ff221cb9",
        "outputId": "d1cffc6c-2a85-464a-fcbb-37641b8bd660"
      },
      "outputs": [
        {
          "output_type": "stream",
          "name": "stdout",
          "text": [
            "baris ke-3 = [7 8 9]\n",
            "entry ke-1 & 2 baris ke-3 =  [7 8]\n",
            "entry ke-2 & 3 kolom ke-3 = \n",
            " [[6]\n",
            " [9]]\n"
          ]
        }
      ],
      "source": [
        "#Lengkapi kodingan berikut\n",
        "print('baris ke-3 =', A[2])\n",
        "print('entry ke-1 & 2 baris ke-3 = ', A[2][0:2])\n",
        "print('entry ke-2 & 3 kolom ke-3 = \\n', A[1:3,2:]) #Baris 1-2 kolom >= 2"
      ]
    },
    {
      "cell_type": "markdown",
      "id": "48c0a637",
      "metadata": {
        "id": "48c0a637"
      },
      "source": [
        "* Latihan 4"
      ]
    },
    {
      "cell_type": "code",
      "execution_count": 4,
      "id": "bb9609eb",
      "metadata": {
        "colab": {
          "base_uri": "https://localhost:8080/"
        },
        "id": "bb9609eb",
        "outputId": "1bcd22bf-d5a1-47be-93df-55ec10511055"
      },
      "outputs": [
        {
          "output_type": "stream",
          "name": "stdout",
          "text": [
            "Hasil 2xA : \n",
            " [[ 2  4]\n",
            " [14 16]]\n",
            "Hasil 2+A : \n",
            " [[ 3  4]\n",
            " [ 9 10]]\n",
            "HasilA+B : \n",
            " [[ 4  7]\n",
            " [ 8 14]]\n",
            "HasilA-B : \n",
            " [[-2 -3]\n",
            " [ 6  2]]\n",
            "Hasil det(A) : \n",
            "  -6.0\n"
          ]
        }
      ],
      "source": [
        "A = np.array([[1, 2], [7,8]])\n",
        "B = np.array([[3, 5], [1,6]])\n",
        "print(\"Hasil 2xA : \\n\", 2*A)\n",
        "print(\"Hasil 2+A : \\n\", 2+A)\n",
        "print(\"HasilA+B : \\n\", A+B)\n",
        "print(\"HasilA-B : \\n\", A-B)\n",
        "print(\"Hasil det(A) : \\n \", np.linalg.det(A))"
      ]
    },
    {
      "cell_type": "code",
      "execution_count": 5,
      "id": "68658ef5",
      "metadata": {
        "colab": {
          "base_uri": "https://localhost:8080/"
        },
        "id": "68658ef5",
        "outputId": "aeb50e19-7c9b-4bf8-a612-e2df70dc0745"
      },
      "outputs": [
        {
          "output_type": "stream",
          "name": "stdout",
          "text": [
            "D :\n",
            " [[ 0.46153846 -0.38461538]\n",
            " [-0.07692308  0.23076923]] \n",
            "\n",
            "D^T : \n",
            " [[ 0.46153846 -0.07692308]\n",
            " [-0.38461538  0.23076923]] \n",
            "\n",
            "Eigen Value A : [-0.62347538  9.62347538]\n",
            "Eigen Vector A:\n",
            " [[-0.77640358 -0.22592838]\n",
            " [ 0.63023605 -0.97414391]] \n",
            "\n",
            "Eigen Value B : [1.8074176 7.1925824]\n",
            "Eigen Vector B:\n",
            " [[-0.97271381 -0.76626443]\n",
            " [ 0.23200828 -0.64252535]]\n"
          ]
        }
      ],
      "source": [
        "#invers dari B, simpan jadi matriks D\n",
        "D = np.linalg.inv(B)\n",
        "print(\"D :\\n\",D, \"\\n\")\n",
        "\n",
        "#transpose D\n",
        "print(\"D^T : \\n\", D.transpose(), \"\\n\")\n",
        "\n",
        "#nilai eigen dan vektor eigen dari A dan B\n",
        "print(\"Eigen Value A :\", np.linalg.eig(A)[0])\n",
        "print(\"Eigen Vector A:\\n\", np.linalg.eig(A)[1],\"\\n\")\n",
        "print(\"Eigen Value B :\", np.linalg.eig(B)[0])\n",
        "print(\"Eigen Vector B:\\n\", np.linalg.eig(B)[1])"
      ]
    },
    {
      "cell_type": "markdown",
      "id": "5eec3a14",
      "metadata": {
        "id": "5eec3a14"
      },
      "source": [
        "* Apa perbedaan dari B*D (perkalian antar entry di B dan D) dan BD (perkalian matriks B dan D)?"
      ]
    },
    {
      "cell_type": "code",
      "execution_count": 6,
      "id": "352d2fc4",
      "metadata": {
        "colab": {
          "base_uri": "https://localhost:8080/"
        },
        "id": "352d2fc4",
        "outputId": "915aa27a-e213-4f3d-fb9b-dbc4230c6590"
      },
      "outputs": [
        {
          "output_type": "stream",
          "name": "stdout",
          "text": [
            "BxD : \n",
            " [[ 1.38461538 -1.92307692]\n",
            " [-0.07692308  1.38461538]]\n",
            "BxD : \n",
            " [[ 1.00000000e+00 -1.11022302e-16]\n",
            " [ 1.11022302e-16  1.00000000e+00]]\n"
          ]
        }
      ],
      "source": [
        "print(\"BxD : \\n\",B*D)\n",
        "print(\"BxD : \\n\",np.matmul(B,D))"
      ]
    },
    {
      "cell_type": "markdown",
      "id": "9ba9dacb",
      "metadata": {
        "id": "9ba9dacb"
      },
      "source": [
        "Perbedaan :\n",
        "\n",
        "Perkalian entry yang dikalikan pada bilangan baris 1 di matrix B dikalikan bilangan pada baris 1 matrix D, namun pada kolom 2 matric B akan dikalikan kolom 2 matrix D. \n",
        "\n",
        "Perkalian matriks yang dikalikan merupakan matrix baris B dengan kolom matrix D dan kolom matrix B dengan baris matrix D"
      ]
    },
    {
      "cell_type": "markdown",
      "source": [
        "# Sesi Siang"
      ],
      "metadata": {
        "id": "P9Y7Qgy2n2U9"
      },
      "id": "P9Y7Qgy2n2U9"
    },
    {
      "cell_type": "code",
      "source": [
        "import numpy as np"
      ],
      "metadata": {
        "id": "jcaTqrNQn4Hr"
      },
      "id": "jcaTqrNQn4Hr",
      "execution_count": 11,
      "outputs": []
    },
    {
      "cell_type": "code",
      "source": [
        "A = np.array([[1, 2], [7,8]])\n",
        "B = np.array([[3, 5], [1,6]])"
      ],
      "metadata": {
        "id": "-Dm2arIToGzW"
      },
      "id": "-Dm2arIToGzW",
      "execution_count": 12,
      "outputs": []
    },
    {
      "cell_type": "markdown",
      "source": [
        "Hitunglah:\n",
        "- 2*A\n",
        "- 2+A\n",
        "- A+B\n",
        "- A-B\n",
        "- determinan A\n",
        "- invers dari B, simpan jadi matriks D\n",
        "- transpose D\n",
        "- nilai eigen dan vektor eigen dari A dan B\n",
        "\n",
        "```\n",
        "# Ini diformat sebagai kode\n",
        "```\n",
        "\n"
      ],
      "metadata": {
        "id": "jiVSFJdZoJT3"
      },
      "id": "jiVSFJdZoJT3"
    },
    {
      "cell_type": "code",
      "source": [
        "print(2*A)"
      ],
      "metadata": {
        "colab": {
          "base_uri": "https://localhost:8080/"
        },
        "id": "RdwFuqMEoL0V",
        "outputId": "846ebdb2-89eb-4595-af24-70039e489755"
      },
      "id": "RdwFuqMEoL0V",
      "execution_count": 13,
      "outputs": [
        {
          "output_type": "stream",
          "name": "stdout",
          "text": [
            "[[ 2  4]\n",
            " [14 16]]\n"
          ]
        }
      ]
    },
    {
      "cell_type": "code",
      "source": [
        "print(2 + A)"
      ],
      "metadata": {
        "colab": {
          "base_uri": "https://localhost:8080/"
        },
        "id": "a-xQRTJLoOA3",
        "outputId": "bf1efed0-7f82-4afc-939b-df77f3f95d0a"
      },
      "id": "a-xQRTJLoOA3",
      "execution_count": 14,
      "outputs": [
        {
          "output_type": "stream",
          "name": "stdout",
          "text": [
            "[[ 3  4]\n",
            " [ 9 10]]\n"
          ]
        }
      ]
    },
    {
      "cell_type": "code",
      "source": [
        "print(A+B)"
      ],
      "metadata": {
        "colab": {
          "base_uri": "https://localhost:8080/"
        },
        "id": "CmTSXmNgojeH",
        "outputId": "40802b94-512a-4c9f-9c02-253179eb020f"
      },
      "id": "CmTSXmNgojeH",
      "execution_count": 16,
      "outputs": [
        {
          "output_type": "stream",
          "name": "stdout",
          "text": [
            "[[ 4  7]\n",
            " [ 8 14]]\n"
          ]
        }
      ]
    },
    {
      "cell_type": "code",
      "source": [
        "print(A-B)"
      ],
      "metadata": {
        "colab": {
          "base_uri": "https://localhost:8080/"
        },
        "id": "i3Mshmf1olvR",
        "outputId": "cefefebe-6a8a-47b4-a4b0-ffcb54985d80"
      },
      "id": "i3Mshmf1olvR",
      "execution_count": 17,
      "outputs": [
        {
          "output_type": "stream",
          "name": "stdout",
          "text": [
            "[[-2 -3]\n",
            " [ 6  2]]\n"
          ]
        }
      ]
    },
    {
      "cell_type": "code",
      "source": [
        "print('Determinan', np.linalg.det(A))"
      ],
      "metadata": {
        "colab": {
          "base_uri": "https://localhost:8080/"
        },
        "id": "WhsTrbuTooG3",
        "outputId": "32ffc041-cfa3-44ac-d84b-1bccf7c63238"
      },
      "id": "WhsTrbuTooG3",
      "execution_count": 18,
      "outputs": [
        {
          "output_type": "stream",
          "name": "stdout",
          "text": [
            "Determinan -6.0\n"
          ]
        }
      ]
    },
    {
      "cell_type": "code",
      "source": [
        "D = np.linalg.inv(B)"
      ],
      "metadata": {
        "id": "aB0jAWKMoqSy"
      },
      "id": "aB0jAWKMoqSy",
      "execution_count": 19,
      "outputs": []
    },
    {
      "cell_type": "code",
      "source": [
        "print(D.transpose())"
      ],
      "metadata": {
        "colab": {
          "base_uri": "https://localhost:8080/"
        },
        "id": "okt5VmgZosiG",
        "outputId": "7e621100-8319-4aed-9c35-8958d560331f"
      },
      "id": "okt5VmgZosiG",
      "execution_count": 20,
      "outputs": [
        {
          "output_type": "stream",
          "name": "stdout",
          "text": [
            "[[ 0.46153846 -0.07692308]\n",
            " [-0.38461538  0.23076923]]\n"
          ]
        }
      ]
    },
    {
      "cell_type": "code",
      "source": [
        "eig_val, eign_vec= np.linalg.eig(A)"
      ],
      "metadata": {
        "id": "e08hDL7YovPW"
      },
      "id": "e08hDL7YovPW",
      "execution_count": 21,
      "outputs": []
    },
    {
      "cell_type": "code",
      "source": [
        "print('Eigen Value A = \\n',eig_val)"
      ],
      "metadata": {
        "colab": {
          "base_uri": "https://localhost:8080/"
        },
        "id": "1jC08Q2OoxNY",
        "outputId": "cff81d2c-631b-46a6-f33b-77e5ce294bf7"
      },
      "id": "1jC08Q2OoxNY",
      "execution_count": 23,
      "outputs": [
        {
          "output_type": "stream",
          "name": "stdout",
          "text": [
            "Eigen Value A = \n",
            " [-0.62347538  9.62347538]\n"
          ]
        }
      ]
    },
    {
      "cell_type": "code",
      "source": [
        "print('Eigen Vector A = \\n',\n",
        "      eign_vec)"
      ],
      "metadata": {
        "colab": {
          "base_uri": "https://localhost:8080/"
        },
        "id": "gpaXA5-Mo0JB",
        "outputId": "7a313436-03cd-4876-ab02-7b95fc8f77fd"
      },
      "id": "gpaXA5-Mo0JB",
      "execution_count": 24,
      "outputs": [
        {
          "output_type": "stream",
          "name": "stdout",
          "text": [
            "Eigen Vector A = \n",
            " [[-0.77640358 -0.22592838]\n",
            " [ 0.63023605 -0.97414391]]\n"
          ]
        }
      ]
    },
    {
      "cell_type": "code",
      "source": [
        "eig_val, eign_vec= np.linalg.eig(B)"
      ],
      "metadata": {
        "id": "72xGIp8Io2s_"
      },
      "id": "72xGIp8Io2s_",
      "execution_count": 25,
      "outputs": []
    },
    {
      "cell_type": "code",
      "source": [
        "print('Eigen Value B = \\n',eig_val)"
      ],
      "metadata": {
        "colab": {
          "base_uri": "https://localhost:8080/"
        },
        "id": "wPK8oq34o48x",
        "outputId": "8007f5fa-8cce-4872-9195-066d6ff2411c"
      },
      "id": "wPK8oq34o48x",
      "execution_count": 26,
      "outputs": [
        {
          "output_type": "stream",
          "name": "stdout",
          "text": [
            "Eigen Value B = \n",
            " [1.8074176 7.1925824]\n"
          ]
        }
      ]
    },
    {
      "cell_type": "code",
      "source": [
        "print('Eigen Vector B = \\n',\n",
        "      eign_vec)"
      ],
      "metadata": {
        "colab": {
          "base_uri": "https://localhost:8080/"
        },
        "id": "uGhjVMjto63-",
        "outputId": "1974c8e4-1de0-4a17-85d3-f985342b2ce7"
      },
      "id": "uGhjVMjto63-",
      "execution_count": 27,
      "outputs": [
        {
          "output_type": "stream",
          "name": "stdout",
          "text": [
            "Eigen Vector B = \n",
            " [[-0.97271381 -0.76626443]\n",
            " [ 0.23200828 -0.64252535]]\n"
          ]
        }
      ]
    },
    {
      "cell_type": "markdown",
      "source": [
        "Apa perbedaan dari B*D (perkalian antar entry di B dan D) dan BD (perkalian matriks B dan D)?"
      ],
      "metadata": {
        "id": "ZNRo96y4pCfI"
      },
      "id": "ZNRo96y4pCfI"
    },
    {
      "cell_type": "code",
      "source": [
        "print(\"perkalian antar entry di B dan D = \\n\",B*D)"
      ],
      "metadata": {
        "colab": {
          "base_uri": "https://localhost:8080/"
        },
        "id": "htly5DWZpAZP",
        "outputId": "86319ef6-02c3-41b7-833b-bb351502b2a0"
      },
      "id": "htly5DWZpAZP",
      "execution_count": 28,
      "outputs": [
        {
          "output_type": "stream",
          "name": "stdout",
          "text": [
            "perkalian antar entry di B dan D = \n",
            " [[ 1.38461538 -1.92307692]\n",
            " [-0.07692308  1.38461538]]\n"
          ]
        }
      ]
    },
    {
      "cell_type": "code",
      "source": [
        "print(\"perkalian matriks B dan D = \\n\",np.matmul(B,D))"
      ],
      "metadata": {
        "colab": {
          "base_uri": "https://localhost:8080/"
        },
        "id": "Z4se8XEBpIz0",
        "outputId": "6617a0d5-ea5a-4a52-a2d9-485573eb327e"
      },
      "id": "Z4se8XEBpIz0",
      "execution_count": 29,
      "outputs": [
        {
          "output_type": "stream",
          "name": "stdout",
          "text": [
            "perkalian matriks B dan D = \n",
            " [[ 1.00000000e+00 -1.11022302e-16]\n",
            " [ 1.11022302e-16  1.00000000e+00]]\n"
          ]
        }
      ]
    }
  ],
  "metadata": {
    "kernelspec": {
      "display_name": "Python 3 (ipykernel)",
      "language": "python",
      "name": "python3"
    },
    "language_info": {
      "codemirror_mode": {
        "name": "ipython",
        "version": 3
      },
      "file_extension": ".py",
      "mimetype": "text/x-python",
      "name": "python",
      "nbconvert_exporter": "python",
      "pygments_lexer": "ipython3",
      "version": "3.9.7"
    },
    "colab": {
      "name": "Selasa_8_maret_Sesi_pagi_dan_Siang.ipynb",
      "provenance": [],
      "collapsed_sections": []
    }
  },
  "nbformat": 4,
  "nbformat_minor": 5
}